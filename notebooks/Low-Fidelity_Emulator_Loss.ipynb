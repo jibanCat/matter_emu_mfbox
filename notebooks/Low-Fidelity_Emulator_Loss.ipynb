{
 "cells": [
  {
   "cell_type": "code",
   "execution_count": 1,
   "metadata": {},
   "outputs": [],
   "source": [
    "import os\n",
    "import numpy as np\n",
    "import h5py\n",
    "\n",
    "from matplotlib import pyplot as plt"
   ]
  },
  {
   "cell_type": "code",
   "execution_count": 2,
   "metadata": {},
   "outputs": [],
   "source": [
    "os.chdir(\"/Users/jibanmac/Documents/GitHub/matter_emu_dgmgp/\")"
   ]
  },
  {
   "attachments": {},
   "cell_type": "markdown",
   "metadata": {},
   "source": [
    "## How good you can infer this multi-fidelity power-law relation by using low-fidelity only??\n",
    "\n",
    "What you can do:\n",
    "1. Take LF SLHD training set, k-fold splitting and test on some of them (maybe 9 of them a batch).\n",
    "2. Once you have the errors, do the inference again.\n",
    "3. Try different boxsizes, and supposedly boxsize smaller the correlation higher (?)"
   ]
  },
  {
   "attachments": {},
   "cell_type": "markdown",
   "metadata": {},
   "source": [
    "The budget power-law relation of error(number of points) will be more useful if $\\nu$ and $\\eta$ can get from LF only emulator.\n",
    "\n",
    "The way to test it is to train LF only emulator and test the accuracy.\n",
    "\n",
    "Use the test accuracy as a function of LF points to get $\\nu$.\n",
    "\n",
    "To see how well it scales to MF case.\n",
    "\n",
    "In this case $\\eta$ might not be translatable? But in principle you can get the average error in some way "
   ]
  },
  {
   "cell_type": "code",
   "execution_count": 3,
   "metadata": {},
   "outputs": [],
   "source": [
    "# Load folder names\n",
    "from matter_multi_fidelity_emu.data_loader import folder_name\n",
    "from matter_multi_fidelity_emu.data_loader import PowerSpecs"
   ]
  },
  {
   "cell_type": "code",
   "execution_count": 4,
   "metadata": {},
   "outputs": [],
   "source": [
    "# loading from folders\n",
    "# change box size to see if optimal \\rho change\n",
    "box_list = [100, 128, 160, 192, 224, 256]\n",
    "z_list   = [0, 0.2, 0.5, 1.0, 2.0, 3.0]\n",
    "\n",
    "lf_train_dict = {\n",
    "    \"z_list\" : z_list,\n",
    "    \"box_list\" : box_list,\n",
    "    \"data\" : {\n",
    "    }\n",
    "}\n",
    "\n",
    "for box1 in box_list:\n",
    "    boxkey = \"box_{}\".format(box1)\n",
    "    lf_train_dict[\"data\"][boxkey] = {}\n",
    "\n",
    "    for z in z_list:\n",
    "        lf_train_dict[\"data\"][boxkey][str(z)] = {}\n",
    "\n",
    "        # Matterpower_60_res128box{ }_3_res512box256_z{}_ind{}\n",
    "        fname = folder_name(\n",
    "            num1=60,\n",
    "            res1=128,\n",
    "            box1=box1,\n",
    "            num2=3,\n",
    "            res2=512,\n",
    "            box2=256,\n",
    "            z=z,\n",
    "            selected_ind=[57, 58, 59],\n",
    "        )\n",
    "\n",
    "        fname = os.path.join(\"data/processed/\", fname)\n",
    "\n",
    "        # Just save different redshifts into different items\n",
    "        power = PowerSpecs()\n",
    "        power.read_from_txt(fname)\n",
    "\n",
    "        # Save into dict for later use\n",
    "        X = power.X_train_norm[0]\n",
    "        Y = power.Y_train_norm[0]\n",
    "\n",
    "        lf_train_dict[\"data\"][boxkey][str(z)][\"X\"] = X\n",
    "        lf_train_dict[\"data\"][boxkey][str(z)][\"Y\"] = Y\n",
    "\n"
   ]
  },
  {
   "attachments": {},
   "cell_type": "markdown",
   "metadata": {},
   "source": [
    "## Train GP and get test error\n",
    "\n",
    "Maybe test the workflow first on one boxsize"
   ]
  },
  {
   "cell_type": "code",
   "execution_count": 6,
   "metadata": {},
   "outputs": [],
   "source": [
    "import GPy"
   ]
  },
  {
   "attachments": {},
   "cell_type": "markdown",
   "metadata": {},
   "source": [
    "What we need is to do a k-fold validation errors:\n",
    "1. Slice the training data into k slices (require k-loops)\n",
    "2. Select one of the slice as testing set,\n",
    "3. Select some the rest slices as training set (looping over `num_train`)\n",
    "4. Get testing errors"
   ]
  },
  {
   "cell_type": "code",
   "execution_count": 7,
   "metadata": {},
   "outputs": [
    {
     "name": "stderr",
     "output_type": "stream",
     "text": [
      " /Users/jibanmac/Documents/conda/emu-3.9/lib/python3.9/site-packages/GPy/kern/src/stationary.py:137: RuntimeWarning:overflow encountered in square\n",
      " /Users/jibanmac/Documents/conda/emu-3.9/lib/python3.9/site-packages/GPy/kern/src/stationary.py:138: RuntimeWarning:invalid value encountered in add\n",
      " /Users/jibanmac/Documents/conda/emu-3.9/lib/python3.9/site-packages/GPy/kern/src/stationary.py:137: RuntimeWarning:overflow encountered in square\n",
      " /Users/jibanmac/Documents/conda/emu-3.9/lib/python3.9/site-packages/GPy/kern/src/stationary.py:138: RuntimeWarning:invalid value encountered in add\n",
      " /Users/jibanmac/Documents/conda/emu-3.9/lib/python3.9/site-packages/GPy/kern/src/stationary.py:137: RuntimeWarning:overflow encountered in square\n",
      " /Users/jibanmac/Documents/conda/emu-3.9/lib/python3.9/site-packages/GPy/kern/src/stationary.py:138: RuntimeWarning:invalid value encountered in add\n",
      " /Users/jibanmac/Documents/conda/emu-3.9/lib/python3.9/site-packages/GPy/kern/src/stationary.py:137: RuntimeWarning:overflow encountered in square\n",
      " /Users/jibanmac/Documents/conda/emu-3.9/lib/python3.9/site-packages/GPy/kern/src/stationary.py:138: RuntimeWarning:invalid value encountered in add\n",
      " /Users/jibanmac/Documents/conda/emu-3.9/lib/python3.9/site-packages/GPy/kern/src/stationary.py:137: RuntimeWarning:overflow encountered in square\n",
      " /Users/jibanmac/Documents/conda/emu-3.9/lib/python3.9/site-packages/GPy/kern/src/stationary.py:138: RuntimeWarning:invalid value encountered in add\n",
      " /Users/jibanmac/Documents/conda/emu-3.9/lib/python3.9/site-packages/GPy/kern/src/stationary.py:137: RuntimeWarning:overflow encountered in square\n",
      " /Users/jibanmac/Documents/conda/emu-3.9/lib/python3.9/site-packages/GPy/kern/src/stationary.py:138: RuntimeWarning:invalid value encountered in add\n",
      " /Users/jibanmac/Documents/conda/emu-3.9/lib/python3.9/site-packages/GPy/kern/src/stationary.py:137: RuntimeWarning:overflow encountered in square\n",
      " /Users/jibanmac/Documents/conda/emu-3.9/lib/python3.9/site-packages/GPy/kern/src/stationary.py:138: RuntimeWarning:invalid value encountered in add\n",
      " /Users/jibanmac/Documents/conda/emu-3.9/lib/python3.9/site-packages/GPy/kern/src/stationary.py:137: RuntimeWarning:overflow encountered in square\n",
      " /Users/jibanmac/Documents/conda/emu-3.9/lib/python3.9/site-packages/GPy/kern/src/stationary.py:138: RuntimeWarning:invalid value encountered in add\n",
      " /Users/jibanmac/Documents/conda/emu-3.9/lib/python3.9/site-packages/GPy/kern/src/stationary.py:243: RuntimeWarning:invalid value encountered in divide\n",
      " /Users/jibanmac/Documents/conda/emu-3.9/lib/python3.9/site-packages/GPy/kern/src/stationary.py:137: RuntimeWarning:overflow encountered in square\n",
      " /Users/jibanmac/Documents/conda/emu-3.9/lib/python3.9/site-packages/GPy/kern/src/stationary.py:138: RuntimeWarning:invalid value encountered in add\n",
      " /Users/jibanmac/Documents/conda/emu-3.9/lib/python3.9/site-packages/GPy/kern/src/stationary.py:137: RuntimeWarning:overflow encountered in square\n",
      " /Users/jibanmac/Documents/conda/emu-3.9/lib/python3.9/site-packages/GPy/kern/src/stationary.py:138: RuntimeWarning:invalid value encountered in add\n",
      " /Users/jibanmac/Documents/conda/emu-3.9/lib/python3.9/site-packages/GPy/kern/src/stationary.py:137: RuntimeWarning:overflow encountered in square\n",
      " /Users/jibanmac/Documents/conda/emu-3.9/lib/python3.9/site-packages/GPy/kern/src/stationary.py:138: RuntimeWarning:invalid value encountered in add\n",
      " /Users/jibanmac/Documents/conda/emu-3.9/lib/python3.9/site-packages/GPy/kern/src/stationary.py:137: RuntimeWarning:overflow encountered in square\n",
      " /Users/jibanmac/Documents/conda/emu-3.9/lib/python3.9/site-packages/GPy/kern/src/stationary.py:138: RuntimeWarning:invalid value encountered in add\n",
      " /Users/jibanmac/Documents/conda/emu-3.9/lib/python3.9/site-packages/GPy/kern/src/stationary.py:243: RuntimeWarning:invalid value encountered in divide\n",
      " /Users/jibanmac/Documents/conda/emu-3.9/lib/python3.9/site-packages/GPy/kern/src/stationary.py:137: RuntimeWarning:overflow encountered in square\n",
      " /Users/jibanmac/Documents/conda/emu-3.9/lib/python3.9/site-packages/GPy/kern/src/stationary.py:138: RuntimeWarning:invalid value encountered in add\n",
      " /Users/jibanmac/Documents/conda/emu-3.9/lib/python3.9/site-packages/GPy/kern/src/stationary.py:137: RuntimeWarning:overflow encountered in square\n",
      " /Users/jibanmac/Documents/conda/emu-3.9/lib/python3.9/site-packages/GPy/kern/src/stationary.py:138: RuntimeWarning:invalid value encountered in add\n",
      " /Users/jibanmac/Documents/conda/emu-3.9/lib/python3.9/site-packages/GPy/kern/src/stationary.py:137: RuntimeWarning:overflow encountered in square\n",
      " /Users/jibanmac/Documents/conda/emu-3.9/lib/python3.9/site-packages/GPy/kern/src/stationary.py:138: RuntimeWarning:invalid value encountered in add\n",
      " /Users/jibanmac/Documents/conda/emu-3.9/lib/python3.9/site-packages/GPy/kern/src/stationary.py:137: RuntimeWarning:overflow encountered in square\n",
      " /Users/jibanmac/Documents/conda/emu-3.9/lib/python3.9/site-packages/GPy/kern/src/stationary.py:138: RuntimeWarning:invalid value encountered in add\n",
      " /Users/jibanmac/Documents/conda/emu-3.9/lib/python3.9/site-packages/GPy/kern/src/stationary.py:137: RuntimeWarning:overflow encountered in square\n",
      " /Users/jibanmac/Documents/conda/emu-3.9/lib/python3.9/site-packages/GPy/kern/src/stationary.py:138: RuntimeWarning:invalid value encountered in add\n",
      " /Users/jibanmac/Documents/conda/emu-3.9/lib/python3.9/site-packages/GPy/kern/src/stationary.py:137: RuntimeWarning:overflow encountered in square\n",
      " /Users/jibanmac/Documents/conda/emu-3.9/lib/python3.9/site-packages/GPy/kern/src/stationary.py:138: RuntimeWarning:invalid value encountered in add\n",
      " /Users/jibanmac/Documents/conda/emu-3.9/lib/python3.9/site-packages/GPy/kern/src/stationary.py:137: RuntimeWarning:overflow encountered in square\n",
      " /Users/jibanmac/Documents/conda/emu-3.9/lib/python3.9/site-packages/GPy/kern/src/stationary.py:138: RuntimeWarning:invalid value encountered in add\n",
      " /Users/jibanmac/Documents/conda/emu-3.9/lib/python3.9/site-packages/GPy/kern/src/stationary.py:137: RuntimeWarning:overflow encountered in square\n",
      " /Users/jibanmac/Documents/conda/emu-3.9/lib/python3.9/site-packages/GPy/kern/src/stationary.py:138: RuntimeWarning:invalid value encountered in add\n",
      " /Users/jibanmac/Documents/conda/emu-3.9/lib/python3.9/site-packages/GPy/kern/src/stationary.py:243: RuntimeWarning:invalid value encountered in divide\n",
      " /Users/jibanmac/Documents/conda/emu-3.9/lib/python3.9/site-packages/GPy/kern/src/stationary.py:137: RuntimeWarning:overflow encountered in square\n",
      " /Users/jibanmac/Documents/conda/emu-3.9/lib/python3.9/site-packages/GPy/kern/src/stationary.py:138: RuntimeWarning:invalid value encountered in add\n",
      " /Users/jibanmac/Documents/conda/emu-3.9/lib/python3.9/site-packages/GPy/kern/src/stationary.py:137: RuntimeWarning:overflow encountered in square\n",
      " /Users/jibanmac/Documents/conda/emu-3.9/lib/python3.9/site-packages/GPy/kern/src/stationary.py:138: RuntimeWarning:invalid value encountered in add\n",
      " /Users/jibanmac/Documents/conda/emu-3.9/lib/python3.9/site-packages/GPy/kern/src/stationary.py:243: RuntimeWarning:invalid value encountered in divide\n",
      " /Users/jibanmac/Documents/conda/emu-3.9/lib/python3.9/site-packages/GPy/kern/src/stationary.py:137: RuntimeWarning:overflow encountered in square\n",
      " /Users/jibanmac/Documents/conda/emu-3.9/lib/python3.9/site-packages/GPy/kern/src/stationary.py:138: RuntimeWarning:invalid value encountered in add\n",
      " /Users/jibanmac/Documents/conda/emu-3.9/lib/python3.9/site-packages/GPy/kern/src/stationary.py:137: RuntimeWarning:overflow encountered in square\n",
      " /Users/jibanmac/Documents/conda/emu-3.9/lib/python3.9/site-packages/GPy/kern/src/stationary.py:138: RuntimeWarning:invalid value encountered in add\n",
      " /Users/jibanmac/Documents/conda/emu-3.9/lib/python3.9/site-packages/GPy/kern/src/stationary.py:137: RuntimeWarning:overflow encountered in square\n",
      " /Users/jibanmac/Documents/conda/emu-3.9/lib/python3.9/site-packages/GPy/kern/src/stationary.py:138: RuntimeWarning:invalid value encountered in add\n",
      " /Users/jibanmac/Documents/conda/emu-3.9/lib/python3.9/site-packages/GPy/kern/src/stationary.py:243: RuntimeWarning:invalid value encountered in divide\n",
      " /Users/jibanmac/Documents/conda/emu-3.9/lib/python3.9/site-packages/GPy/kern/src/stationary.py:137: RuntimeWarning:overflow encountered in square\n",
      " /Users/jibanmac/Documents/conda/emu-3.9/lib/python3.9/site-packages/GPy/kern/src/stationary.py:138: RuntimeWarning:invalid value encountered in add\n",
      " /Users/jibanmac/Documents/conda/emu-3.9/lib/python3.9/site-packages/GPy/kern/src/stationary.py:137: RuntimeWarning:overflow encountered in square\n",
      " /Users/jibanmac/Documents/conda/emu-3.9/lib/python3.9/site-packages/GPy/kern/src/stationary.py:138: RuntimeWarning:invalid value encountered in add\n",
      " /Users/jibanmac/Documents/conda/emu-3.9/lib/python3.9/site-packages/GPy/kern/src/stationary.py:137: RuntimeWarning:overflow encountered in square\n",
      " /Users/jibanmac/Documents/conda/emu-3.9/lib/python3.9/site-packages/GPy/kern/src/stationary.py:138: RuntimeWarning:invalid value encountered in add\n"
     ]
    }
   ],
   "source": [
    "# Should do a k-fold validation\n",
    "num_train     = [6, 9, 12, 15, 18, 21, 24, 27, 30, 33, 36, 39, 42, 45, 48, ]\n",
    "num_test      = 12\n",
    "num_redshifts = len(lf_train_dict[\"z_list\"])\n",
    "# GP optimization options\n",
    "n_optimization_restarts = 5\n",
    "parallel = True\n",
    "\n",
    "\n",
    "# query the boxsize you want\n",
    "name_box_list = [\"box_100\", \"box_128\", \"box_160\", \"box_192\", \"box_224\", \"box_256\"]\n",
    "num_boxes = len(name_box_list)\n",
    "\n",
    "\n",
    "# Training options\n",
    "_Y = lf_train_dict[\"data\"][\"box_100\"][\"0\"][\"Y\"]\n",
    "num_examples = _Y.shape[0]\n",
    "num_folds    = num_examples // num_test\n",
    "\n",
    "\n",
    "val_error_list = np.full((num_boxes, num_redshifts, num_folds, len(num_train), num_test, _Y.shape[1]), fill_value=np.nan)\n",
    "val_pred_list  = np.full((num_boxes, num_redshifts, num_folds, len(num_train), num_test, _Y.shape[1]), fill_value=np.nan)\n",
    "\n",
    "\n",
    "for _kth_box, name_box in enumerate(name_box_list):\n",
    "\n",
    "    for _lth_z, z in enumerate(z_list):\n",
    "        X = lf_train_dict[\"data\"][name_box][str(z)][\"X\"]\n",
    "        Y = lf_train_dict[\"data\"][name_box][str(z)][\"Y\"]\n",
    "\n",
    "        for _ith_fold in range(num_folds):\n",
    "\n",
    "            # real values indices\n",
    "            _real_test_idx  = np.arange(num_examples)[_ith_fold * num_test : (_ith_fold + 1) * num_test ]\n",
    "\n",
    "            # Use boolean indices\n",
    "            _test_ind = np.full(num_examples, fill_value=False, dtype=np.bool_)\n",
    "            _test_ind[_real_test_idx] = True\n",
    "\n",
    "            X_test = X[_test_ind]\n",
    "            Y_test = Y[_test_ind]\n",
    "\n",
    "\n",
    "            # loop over different number of training points\n",
    "            for _jth_train, _n_train in enumerate(num_train):\n",
    "                _real_train_idx = set(np.arange(num_examples)) - set(_real_test_idx)\n",
    "                # Different number of training points\n",
    "                _real_train_idx = np.array(list(_real_train_idx))[:_n_train]\n",
    "                # Use boolean indicies\n",
    "                _train_ind = np.full(num_examples, fill_value=False, dtype=np.bool_)\n",
    "                _train_ind[_real_train_idx] = True\n",
    "\n",
    "                X_train = X[_train_ind]\n",
    "                Y_train = Y[_train_ind]\n",
    "\n",
    "\n",
    "                _nparams = np.shape(X_train)[1]\n",
    "\n",
    "                _kernel = GPy.kern.RBF(_nparams, ARD=True)            \n",
    "\n",
    "                # same hyperparameters shared between bins\n",
    "                _gp = GPy.models.GPRegression(X_train, Y_train, _kernel)\n",
    "                _gp.optimize_restarts(n_optimization_restarts, parallel=parallel, verbose=False)\n",
    "\n",
    "                (Y_pred, _var) = _gp.predict(X_test)\n",
    "\n",
    "\n",
    "                _val_error = np.abs(  Y_pred/Y_test  - 1 )\n",
    "\n",
    "                val_pred_list[ _kth_box, _lth_z, _ith_fold, _jth_train, :, :Y_pred.shape[1]]  = Y_pred\n",
    "                val_error_list[ _kth_box, _lth_z, _ith_fold, _jth_train, :, :Y_pred.shape[1]] = _val_error\n",
    "\n"
   ]
  },
  {
   "cell_type": "code",
   "execution_count": 29,
   "metadata": {},
   "outputs": [
    {
     "data": {
      "text/plain": [
       "<matplotlib.legend.Legend at 0x16e990e20>"
      ]
     },
     "execution_count": 29,
     "metadata": {},
     "output_type": "execute_result"
    },
    {
     "data": {
      "image/png": "[encoded data removed]",
      "text/plain": [
       "<Figure size 640x480 with 1 Axes>"
      ]
     },
     "metadata": {},
     "output_type": "display_data"
    }
   ],
   "source": [
    "# num_boxes, num_redshifts, num_folds, len(num_train), num_test, _Y.shape[1]\n",
    "for _kth_box in range(num_boxes):\n",
    "    plt.semilogy(np.nanmean(val_error_list[_kth_box, :, :, : ,:, :], axis=(0, 1, 3, 4)), label=name_box_list[_kth_box])\n",
    "\n",
    "plt.legend()"
   ]
  },
  {
   "attachments": {},
   "cell_type": "markdown",
   "metadata": {},
   "source": [
    "## Save into budget data for later inference\n",
    "\n",
    "(6, 5, 15, 12, 117)\n",
    "\n",
    "I want (num of boxes, num of redshifts, num of folds, num of train lf points, num of test points, num of bins)\n",
    "converted to\n",
    "(num of boxes, --, --, num of train lf points, --, --)"
   ]
  },
  {
   "cell_type": "code",
   "execution_count": 10,
   "metadata": {},
   "outputs": [],
   "source": [
    "_error_averaged_k_bins =  np.nanmean(val_error_list, axis=-1)\n",
    "\n",
    "# (num boxes, num_train_lf_points)\n",
    "mean_error = np.nanmean(_error_averaged_k_bins, axis=(1, 2, 4))\n",
    "std_error  = np.nanstd(_error_averaged_k_bins, axis=(1, 2, 4))"
   ]
  },
  {
   "cell_type": "code",
   "execution_count": 28,
   "metadata": {},
   "outputs": [],
   "source": [
    "os.makedirs(\"budget_size/lf_only_errors/\", exist_ok=True)\n",
    "\n",
    "\n",
    "lf_error_dict = {\n",
    "    \"num_train\" : num_train,\n",
    "    \"num_test\"  : num_test,\n",
    "    \"name_box_list\" : name_box_list,\n",
    "    \"mean_error\" : mean_error,\n",
    "    \"std_error\" : std_error,\n",
    "    \"val_pred_list\": val_pred_list,\n",
    "    \"val_error_list\" : val_error_list,\n",
    "    \"lf_train_dict\" : lf_train_dict,\n",
    "}\n",
    "\n",
    "with h5py.File(\"budget_size/lf_only_errors/budget_lf_only.h5\", \"w\") as f:\n",
    "    # main data arrays\n",
    "    f.create_dataset(\"mean_error\", data=mean_error)\n",
    "    f.create_dataset(\"std_error\", data=std_error)\n",
    "\n",
    "    f.create_dataset(\"val_pred_list\", data=val_pred_list)\n",
    "    f.create_dataset(\"val_error_list\", data=val_error_list)\n",
    "\n",
    "    # attributes\n",
    "    f.attrs[\"num_train\"]     = num_train\n",
    "    f.attrs[\"z_list\"]        = z_list\n",
    "    f.attrs[\"name_box_list\"] = name_box_list\n",
    "\n",
    "    # training set\n",
    "    g = f.create_group(\"lf_train_dict\")\n",
    "\n",
    "    # TODO: there might be a better way to do it\n",
    "    for _boxkey, _boxvalues in lf_train_dict[\"data\"].items():\n",
    "        gg = g.create_group(_boxkey)\n",
    "        for _zkey, _zvalues in lf_train_dict[\"data\"][_boxkey].items():\n",
    "            ggg = gg.create_group(_zkey)\n",
    "            for key,values in lf_train_dict[\"data\"][_boxkey][_zkey].items():\n",
    "                ggg.create_dataset(key, data=values)"
   ]
  },
  {
   "cell_type": "markdown",
   "metadata": {},
   "source": []
  }
 ],
 "metadata": {
  "kernelspec": {
   "display_name": "Python 3",
   "language": "python",
   "name": "python3"
  },
  "language_info": {
   "codemirror_mode": {
    "name": "ipython",
    "version": 3
   },
   "file_extension": ".py",
   "mimetype": "text/x-python",
   "name": "python",
   "nbconvert_exporter": "python",
   "pygments_lexer": "ipython3",
   "version": "3.9.13"
  },
  "orig_nbformat": 4,
  "vscode": {
   "interpreter": {
    "hash": "8746b4469858e6909012943ead844c5be1ce186810a63cf99e36bcc59663cddf"
   }
  }
 },
 "nbformat": 4,
 "nbformat_minor": 2
}
