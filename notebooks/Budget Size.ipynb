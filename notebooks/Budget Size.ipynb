{
 "cells": [
  {
   "cell_type": "code",
   "execution_count": 1,
   "id": "1fe13e33",
   "metadata": {
    "scrolled": true
   },
   "outputs": [
    {
     "name": "stdout",
     "output_type": "stream",
     "text": [
      "/home/jibancat/Documents/PYTHON/matter_emu_dgmgp\n"
     ]
    }
   ],
   "source": [
    "cd /home/jibancat/Documents/PYTHON/matter_emu_dgmgp"
   ]
  },
  {
   "cell_type": "code",
   "execution_count": 2,
   "id": "93561dd2",
   "metadata": {},
   "outputs": [],
   "source": [
    "from typing import List\n",
    "\n",
    "import os"
   ]
  },
  {
   "cell_type": "code",
   "execution_count": 3,
   "id": "ff963e09",
   "metadata": {},
   "outputs": [
    {
     "name": "stderr",
     "output_type": "stream",
     "text": [
      "In /home/jibancat/.pyenv/versions/miniconda3-4.3.31/lib/python3.6/site-packages/matplotlib/mpl-data/stylelib/_classic_test.mplstyle: \n",
      "The text.latex.preview rcparam was deprecated in Matplotlib 3.3 and will be removed two minor releases later.\n",
      "In /home/jibancat/.pyenv/versions/miniconda3-4.3.31/lib/python3.6/site-packages/matplotlib/mpl-data/stylelib/_classic_test.mplstyle: \n",
      "The mathtext.fallback_to_cm rcparam was deprecated in Matplotlib 3.3 and will be removed two minor releases later.\n",
      "In /home/jibancat/.pyenv/versions/miniconda3-4.3.31/lib/python3.6/site-packages/matplotlib/mpl-data/stylelib/_classic_test.mplstyle: Support for setting the 'mathtext.fallback_to_cm' rcParam is deprecated since 3.3 and will be removed two minor releases later; use 'mathtext.fallback : 'cm' instead.\n",
      "In /home/jibancat/.pyenv/versions/miniconda3-4.3.31/lib/python3.6/site-packages/matplotlib/mpl-data/stylelib/_classic_test.mplstyle: \n",
      "The validate_bool_maybe_none function was deprecated in Matplotlib 3.3 and will be removed two minor releases later.\n",
      "In /home/jibancat/.pyenv/versions/miniconda3-4.3.31/lib/python3.6/site-packages/matplotlib/mpl-data/stylelib/_classic_test.mplstyle: \n",
      "The savefig.jpeg_quality rcparam was deprecated in Matplotlib 3.3 and will be removed two minor releases later.\n",
      "In /home/jibancat/.pyenv/versions/miniconda3-4.3.31/lib/python3.6/site-packages/matplotlib/mpl-data/stylelib/_classic_test.mplstyle: \n",
      "The keymap.all_axes rcparam was deprecated in Matplotlib 3.3 and will be removed two minor releases later.\n",
      "In /home/jibancat/.pyenv/versions/miniconda3-4.3.31/lib/python3.6/site-packages/matplotlib/mpl-data/stylelib/_classic_test.mplstyle: \n",
      "The animation.avconv_path rcparam was deprecated in Matplotlib 3.3 and will be removed two minor releases later.\n",
      "In /home/jibancat/.pyenv/versions/miniconda3-4.3.31/lib/python3.6/site-packages/matplotlib/mpl-data/stylelib/_classic_test.mplstyle: \n",
      "The animation.avconv_args rcparam was deprecated in Matplotlib 3.3 and will be removed two minor releases later.\n"
     ]
    }
   ],
   "source": [
    "import numpy as np\n",
    "import h5py\n",
    "import json\n",
    "import glob\n",
    "import matplotlib.pyplot as plt\n",
    "import matplotlib\n",
    "%matplotlib inline\n",
    "\n",
    "# change some plotting defaults\n",
    "# plt.rc('xtick',labelsize=26)\n",
    "# plt.rc('ytick',labelsize=26)\n",
    "# plt.rcParams['xtick.major.size'] = 8\n",
    "# plt.rcParams['xtick.major.width'] = 1.5\n",
    "# plt.rcParams['xtick.minor.size'] = 5\n",
    "# plt.rcParams['xtick.minor.width'] = 1.25\n",
    "# plt.rcParams['ytick.major.size'] = 8\n",
    "# plt.rcParams['ytick.major.width'] = 1.5\n",
    "# plt.rcParams['ytick.minor.size'] = 5\n",
    "# plt.rcParams['ytick.minor.width'] = 1.25\n",
    "# plt.rcParams['axes.linewidth'] = 2\n",
    "matplotlib.rcParams.update(\n",
    "    {\"font.size\": 16, \"axes.labelsize\": 24, \"axes.titlesize\": 18, \"text.usetex\": True,\n",
    "    \"xtick.major.width\": 1.5, \"xtick.minor.width\": 1.2, \"ytick.major.width\": 1.5, \"ytick.minor.width\": 1.2,\n",
    "    \"legend.fontsize\": 18}\n",
    ")\n",
    "\n",
    "matplotlib.rcParams['figure.dpi']= 150\n",
    "\n",
    "# colors to use\n",
    "c_flatirons = '#8B2131'\n",
    "c_sunshine = '#CA9500'\n",
    "c_skyline = '#1D428A'\n",
    "c_midnight = '#0E2240'\n",
    "\n",
    "colors = [c_flatirons, c_sunshine, c_skyline, c_midnight]"
   ]
  },
  {
   "cell_type": "code",
   "execution_count": 4,
   "id": "db0f2563",
   "metadata": {},
   "outputs": [],
   "source": [
    "viridis = plt.get_cmap(\"viridis\")\n",
    "plasma = plt.get_cmap(\"plasma\")"
   ]
  },
  {
   "cell_type": "code",
   "execution_count": 5,
   "id": "a23fbb17",
   "metadata": {},
   "outputs": [],
   "source": [
    "from examples.make_plots_pipeline import PreloadedVloaders"
   ]
  },
  {
   "cell_type": "markdown",
   "id": "a192c51a",
   "metadata": {},
   "source": [
    "# Budget Size Estimation based on Ji (2021)"
   ]
  },
  {
   "cell_type": "markdown",
   "id": "f0e255cb",
   "metadata": {},
   "source": [
    "The derived form\n",
    "\n",
    "A basic parameteric form"
   ]
  },
  {
   "cell_type": "code",
   "execution_count": 6,
   "id": "e4178f72",
   "metadata": {
    "scrolled": true
   },
   "outputs": [
    {
     "name": "stderr",
     "output_type": "stream",
     "text": [
      " /home/jibancat/Documents/PYTHON/matter_emu_dgmgp/matter_multi_fidelity_emu/plottings/validation_loader.py:149: RuntimeWarning:overflow encountered in power\n",
      " /home/jibancat/Documents/PYTHON/matter_emu_dgmgp/matter_multi_fidelity_emu/plottings/validation_loader.py:135: RuntimeWarning:invalid value encountered in true_divide\n"
     ]
    }
   ],
   "source": [
    "vloaders = PreloadedVloaders()"
   ]
  },
  {
   "cell_type": "code",
   "execution_count": 8,
   "id": "adef8e7f",
   "metadata": {},
   "outputs": [],
   "source": [
    "LF_points = vloaders.ar1_H3_slice19.num_lf\n",
    "\n",
    "all_vloaders = [\n",
    "    vloaders.ar1_H2_slice19,    \n",
    "    vloaders.ar1_H3_slice19,\n",
    "    vloaders.ar1_H4_slice19,\n",
    "    vloaders.ar1_H5_slice19,\n",
    "    vloaders.ar1_H6_slice19,\n",
    "    vloaders.ar1_H7_slice19,\n",
    "    vloaders.ar1_H8_slice19,\n",
    "    vloaders.ar1_H9_slice19,\n",
    "    vloaders.ar1_H10_slice19,\n",
    "    vloaders.ar1_H11_slice19,\n",
    "    vloaders.ar1_H12_slice19,\n",
    "    vloaders.ar1_H13_slice19,\n",
    "    vloaders.ar1_H14_slice19,\n",
    "    vloaders.ar1_H15_slice19,    \n",
    "    vloaders.ar1_H16_slice19,\n",
    "    vloaders.ar1_H17_slice19,\n",
    "    vloaders.ar1_H18_slice19,\n",
    "]\n",
    "\n",
    "# I should average over test points\n",
    "# Shape: (number of HF points, number of LF points, number of k points)\n",
    "all_relative_errors = np.full(\n",
    "    (len(all_vloaders), len(LF_points), vloaders.ar1_H3_slice19.pred_div_exact.shape[-1]),\n",
    "    fill_value = np.nan,\n",
    ")\n",
    "\n",
    "HF_points = []\n",
    "\n",
    "for i,vloader in enumerate(all_vloaders):\n",
    "    assert len(vloader.num_lf) == len(LF_points)\n",
    "\n",
    "    all_relative_errors[i, :, :] = np.abs(vloader.pred_div_exact - 1).mean(axis=1)\n",
    "    \n",
    "    HF_points.append(vloader.num_hf)"
   ]
  },
  {
   "cell_type": "code",
   "execution_count": 9,
   "id": "feb6f494",
   "metadata": {
    "scrolled": true
   },
   "outputs": [],
   "source": [
    "# Shape: (number of HF points, number of LF points, number of k points)\n",
    "L_H_mean_errors = all_relative_errors.mean(axis=2)\n",
    "L_H_std_errors = all_relative_errors.std(axis=2)\n",
    "L_H_max_errors = all_relative_errors.max(axis=2)"
   ]
  },
  {
   "cell_type": "code",
   "execution_count": 10,
   "id": "82f1c637",
   "metadata": {},
   "outputs": [
    {
     "data": {
      "text/plain": [
       "(17, 9)"
      ]
     },
     "execution_count": 10,
     "metadata": {},
     "output_type": "execute_result"
    }
   ],
   "source": [
    "L_H_mean_errors.shape"
   ]
  },
  {
   "cell_type": "code",
   "execution_count": 11,
   "id": "515a2b0d",
   "metadata": {},
   "outputs": [],
   "source": [
    "\n",
    "x_train = np.full(\n",
    "    (len(LF_points) * len(HF_points), 2),\n",
    "    fill_value=np.nan,\n",
    ")\n",
    "y_train = np.full(\n",
    "    (len(LF_points) * len(HF_points), 1),\n",
    "    fill_value=np.nan,\n",
    ")\n",
    "y_train_std = np.full(\n",
    "    (len(LF_points) * len(HF_points), 1),\n",
    "    fill_value=np.nan,\n",
    ")\n",
    "y_train_2 = np.full(\n",
    "    (len(LF_points) * len(HF_points), 1),\n",
    "    fill_value=np.nan,\n",
    ")\n",
    "\n",
    "for i,num_lf in enumerate(LF_points):\n",
    "    for j,num_hf in enumerate(HF_points):\n",
    "        x_train[i * len(HF_points) + j, : ] = np.array([num_lf, num_hf])\n",
    "\n",
    "        # Shape: (number of HF points, number of LF points)\n",
    "        y_train[i * len(HF_points) + j,   : ]   = L_H_mean_errors[j, i]\n",
    "        y_train_2[i * len(HF_points) + j, : ]   = L_H_max_errors[j, i]\n",
    "        y_train_std[i * len(HF_points) + j, : ] = L_H_std_errors[j, i]"
   ]
  },
  {
   "cell_type": "code",
   "execution_count": 12,
   "id": "22973b68",
   "metadata": {},
   "outputs": [],
   "source": [
    "# Save the training data into file\n",
    "data = np.concatenate([x_train, y_train, y_train_std, y_train_2], axis=1)\n",
    "\n",
    "folder = \"budget_size\"\n",
    "base_dir = \"/home/jibancat/Documents/PYTHON/matter_emu_dgmgp/\"\n",
    "\n",
    "os.makedirs(os.path.join(base_dir, folder), exist_ok=True)\n",
    "\n",
    "np.savetxt(\n",
    "    os.path.join(base_dir, folder, \"bugdget_size_new.txt\"),\n",
    "    data,\n",
    ")"
   ]
  },
  {
   "cell_type": "code",
   "execution_count": 18,
   "id": "05ec338b",
   "metadata": {},
   "outputs": [],
   "source": [
    "%matplotlib inline"
   ]
  },
  {
   "cell_type": "code",
   "execution_count": 14,
   "id": "8c23abf0",
   "metadata": {},
   "outputs": [
    {
     "data": {
      "image/png": "[encoded data removed]",
      "text/plain": [
       "<Figure size 765x576 with 2 Axes>"
      ]
     },
     "metadata": {
      "needs_background": "light"
     },
     "output_type": "display_data"
    }
   ],
   "source": [
    "fig, ax = plt.subplots(figsize=(10.625, 8), nrows=1, ncols=1)\n",
    "\n",
    "img = ax.imshow(L_H_mean_errors, extent=[0,1,0,1], origin=\"lower\", cmap=\"viridis\")\n",
    "\n",
    "x_label_list = [str(n_lf) for n_lf in LF_points]\n",
    "y_label_list = [str(n_hf) for n_hf in HF_points]\n",
    "\n",
    "ax.set_xticks([(x + 0.5) / len(x_label_list) for x in range(len(x_label_list))])\n",
    "ax.set_yticks([(y + 0.5) / len(y_label_list) for y in range(len(y_label_list))])\n",
    "\n",
    "ax.set_xticklabels(x_label_list)\n",
    "ax.set_yticklabels(y_label_list)\n",
    "\n",
    "ax.set_title(\"Relative errors\\nversus number of design points\")\n",
    "\n",
    "ax.set_xlabel(\"Number of LF\")\n",
    "ax.set_ylabel(\"Number of HF\")\n",
    "\n",
    "fig.colorbar(img, label=\"Relative Errors\")\n",
    "\n",
    "fig.savefig(\"/home/jibancat/Documents/Latex/mf_boxsize_paper/images/budget_imshow_errors.pdf\", bbox_inches='tight', pad_inches=0.075)"
   ]
  },
  {
   "cell_type": "code",
   "execution_count": 16,
   "id": "9e8cd4c8",
   "metadata": {},
   "outputs": [
    {
     "data": {
      "text/plain": [
       "<matplotlib.colorbar.Colorbar at 0x7f6f21cf1668>"
      ]
     },
     "execution_count": 16,
     "metadata": {},
     "output_type": "execute_result"
    },
    {
     "data": {
      "image/png": "[encoded data removed]",
      "text/plain": [
       "<Figure size 432x288 with 2 Axes>"
      ]
     },
     "metadata": {
      "needs_background": "light"
     },
     "output_type": "display_data"
    }
   ],
   "source": [
    "plt.imshow(L_H_max_errors)\n",
    "plt.colorbar()"
   ]
  },
  {
   "cell_type": "markdown",
   "id": "27c7f494",
   "metadata": {},
   "source": [
    "## Test on the accuracy limit of LF-only emulator"
   ]
  },
  {
   "cell_type": "code",
   "execution_count": 12,
   "id": "e9523450",
   "metadata": {},
   "outputs": [
    {
     "data": {
      "text/plain": [
       "[12, 18, 24, 30, 36, 42, 48, 54, 60, 70, 80, 90, 100, 150, 200, 250, 300, 360]"
      ]
     },
     "execution_count": 12,
     "metadata": {},
     "output_type": "execute_result"
    }
   ],
   "source": [
    "vloaders.ar1_H3_slice19_added_360.num_lf"
   ]
  },
  {
   "cell_type": "code",
   "execution_count": 11,
   "id": "e63b6110",
   "metadata": {},
   "outputs": [
    {
     "data": {
      "text/plain": [
       "(18, 10, 96)"
      ]
     },
     "execution_count": 11,
     "metadata": {},
     "output_type": "execute_result"
    }
   ],
   "source": [
    "vloaders.ar1_H3_slice19_added_360._pred_exacts_lf.shape"
   ]
  },
  {
   "cell_type": "code",
   "execution_count": 20,
   "id": "0e7a5651",
   "metadata": {},
   "outputs": [
    {
     "data": {
      "text/plain": [
       "[<matplotlib.lines.Line2D at 0x7fb004170278>]"
      ]
     },
     "execution_count": 20,
     "metadata": {},
     "output_type": "execute_result"
    },
    {
     "data": {
      "image/png": "[encoded data removed]",
      "text/plain": [
       "<Figure size 432x288 with 1 Axes>"
      ]
     },
     "metadata": {
      "needs_background": "light"
     },
     "output_type": "display_data"
    }
   ],
   "source": [
    "plt.plot(\n",
    "    vloaders.ar1_H3_slice19_added_360.num_lf,\n",
    "    np.abs(vloaders.ar1_H3_slice19_added_360._pred_exacts_lf - 1).mean(axis=(1, 2))\n",
    ")"
   ]
  },
  {
   "cell_type": "code",
   "execution_count": 22,
   "id": "78e5f94c",
   "metadata": {},
   "outputs": [
    {
     "data": {
      "text/plain": [
       "[<matplotlib.lines.Line2D at 0x7fb0036a7240>]"
      ]
     },
     "execution_count": 22,
     "metadata": {},
     "output_type": "execute_result"
    },
    {
     "data": {
      "image/png": "[encoded data removed]",
      "text/plain": [
       "<Figure size 432x288 with 1 Axes>"
      ]
     },
     "metadata": {
      "needs_background": "light"
     },
     "output_type": "display_data"
    }
   ],
   "source": [
    "plt.loglog(\n",
    "    vloaders.ar1_H3_slice19_added_360.num_lf,\n",
    "    np.abs(vloaders.ar1_H3_slice19_added_360._pred_exacts - 1).mean(axis=(1, 2))\n",
    ")"
   ]
  },
  {
   "cell_type": "markdown",
   "id": "29d787f8",
   "metadata": {},
   "source": [
    "Train on 0 ~ 300, test on 60"
   ]
  },
  {
   "cell_type": "code",
   "execution_count": 23,
   "id": "ad8d2ffc",
   "metadata": {},
   "outputs": [],
   "source": [
    "from matter_multi_fidelity_emu.data_loader import PowerSpecs"
   ]
  },
  {
   "cell_type": "code",
   "execution_count": 30,
   "id": "dae7adaa",
   "metadata": {},
   "outputs": [],
   "source": [
    "import GPy"
   ]
  },
  {
   "cell_type": "code",
   "execution_count": 26,
   "id": "82f1875f",
   "metadata": {},
   "outputs": [],
   "source": [
    "data = PowerSpecs()\n",
    "data.read_from_txt(\"data/processed/Matterpower_360_res128box256_3_res512box256_z0_ind-57-58-59/\")"
   ]
  },
  {
   "cell_type": "code",
   "execution_count": 37,
   "id": "5d987488",
   "metadata": {},
   "outputs": [],
   "source": [
    "x_test = data.X_train[0][:60]\n",
    "x_train = data.X_train[0][60:]\n",
    "\n",
    "y_test = data.Y_train[0][:60]\n",
    "y_train = data.Y_train[0][60:]"
   ]
  },
  {
   "cell_type": "code",
   "execution_count": 47,
   "id": "207d78cb",
   "metadata": {
    "scrolled": true
   },
   "outputs": [
    {
     "name": "stdout",
     "output_type": "stream",
     "text": [
      "Optimization restart 1/10, f = -453.4487985869986\n",
      "Optimization restart 2/10, f = -453.4487985872622\n",
      "Optimization restart 3/10, f = -453.4487985872985\n",
      "Optimization restart 4/10, f = -453.4487985871833\n",
      "Optimization restart 5/10, f = -453.44879853991733\n",
      "Optimization restart 6/10, f = -453.44879858222976\n",
      "Optimization restart 7/10, f = -453.4487985861873\n",
      "Optimization restart 8/10, f = -453.4487976636251\n",
      "Optimization restart 9/10, f = -453.4487985650177\n",
      "Optimization restart 10/10, f = -453.4487985837495\n",
      "Optimization restart 1/10, f = -1036.2039673925365\n",
      "Optimization restart 2/10, f = -1036.2039673245447\n",
      "Optimization restart 3/10, f = -1036.2039673950944\n",
      "Optimization restart 4/10, f = -1036.2039673945465\n",
      "Optimization restart 5/10, f = -1037.5436684011793\n",
      "Optimization restart 6/10, f = -1036.2039672438937\n",
      "Optimization restart 7/10, f = -1036.2039673800728\n",
      "Optimization restart 8/10, f = -1036.203967395997\n",
      "Optimization restart 9/10, f = -1036.203967377713\n",
      "Optimization restart 10/10, f = -1036.20396735827\n",
      "Optimization restart 1/10, f = -1732.4043047142661\n",
      "Optimization restart 2/10, f = -1732.4043047146324\n",
      "Optimization restart 3/10, f = -1732.404304402859\n",
      "Optimization restart 4/10, f = -1732.4043046485103\n",
      "Optimization restart 5/10, f = -1732.404304714505\n",
      "Optimization restart 6/10, f = -1732.4043040799784\n",
      "Optimization restart 7/10, f = -1732.4043040179845\n",
      "Optimization restart 8/10, f = -1732.4043039544767\n",
      "Optimization restart 9/10, f = -1732.4043044462226\n",
      "Optimization restart 10/10, f = -1732.4043046860766\n",
      "Optimization restart 1/10, f = -2436.5279657482383\n",
      "Optimization restart 2/10, f = -2436.5279656851003\n",
      "Optimization restart 3/10, f = -2436.527965712895\n",
      "Optimization restart 4/10, f = -2436.527965796048\n",
      "Optimization restart 5/10, f = -2436.5279658334375\n",
      "Optimization restart 6/10, f = -2436.5279656923767\n",
      "Optimization restart 7/10, f = -2436.5279621119907\n",
      "Optimization restart 8/10, f = -2436.527965794099\n",
      "Optimization restart 9/10, f = -2436.5279654456463\n",
      "Optimization restart 10/10, f = -2436.5279652116133\n",
      "Optimization restart 1/10, f = -3198.9260530385855\n",
      "Optimization restart 2/10, f = -3198.926053153322\n",
      "Optimization restart 3/10, f = -3198.926053225143\n",
      "Optimization restart 4/10, f = -3198.9260526220887\n",
      "Optimization restart 5/10, f = -3198.9260532304024\n",
      "Optimization restart 6/10, f = -3198.926053235926\n",
      "Optimization restart 7/10, f = -3198.9260532207586\n",
      "Optimization restart 8/10, f = -3198.926051457447\n",
      "Optimization restart 9/10, f = -3198.926053213183\n",
      "Optimization restart 10/10, f = -3198.9260532069356\n",
      "Optimization restart 1/10, f = -4134.708194549569\n",
      "Optimization restart 2/10, f = -4134.7081948685445\n",
      "Optimization restart 3/10, f = -4134.708194976285\n",
      "Optimization restart 4/10, f = -4134.708194975223\n",
      "Optimization restart 5/10, f = -4134.708188032898\n",
      "Optimization restart 6/10, f = -4134.708194996478\n",
      "Optimization restart 7/10, f = -4134.708194900544\n",
      "Optimization restart 8/10, f = -4134.708194115112\n",
      "Optimization restart 9/10, f = -4134.708192659873\n",
      "Optimization restart 10/10, f = -4134.708194637472\n",
      "Optimization restart 1/10, f = -4989.953623564726\n",
      "Optimization restart 2/10, f = -4989.953623700823\n",
      "Optimization restart 3/10, f = -4989.953621924681\n",
      "Optimization restart 4/10, f = -4989.9536242978775\n",
      "Optimization restart 5/10, f = -4989.953624397381\n",
      "Optimization restart 6/10, f = -4989.953624159769\n",
      "Optimization restart 7/10, f = -4989.953623258088\n",
      "Optimization restart 8/10, f = -4989.95361487152\n",
      "Optimization restart 9/10, f = -4989.953624000811\n",
      "Optimization restart 10/10, f = -4989.953620339609\n",
      "Optimization restart 1/10, f = -5747.905337121178\n",
      "Optimization restart 2/10, f = -5747.90534260868\n",
      "Optimization restart 3/10, f = -5747.9053427601475\n",
      "Optimization restart 4/10, f = -5747.905334349708\n",
      "Optimization restart 5/10, f = -5747.905342768485\n",
      "Optimization restart 6/10, f = -5747.905340074307\n",
      "Optimization restart 7/10, f = -5747.905342735367\n",
      "Optimization restart 8/10, f = -5747.905342475203\n",
      "Optimization restart 9/10, f = -5747.905341735441\n",
      "Optimization restart 10/10, f = -5747.905342612387\n",
      "Optimization restart 1/10, f = -6494.920010895393\n",
      "Optimization restart 2/10, f = -6494.920010177273\n",
      "Optimization restart 3/10, f = -6494.920010885431\n",
      "Optimization restart 4/10, f = -6494.920005396162\n",
      "Optimization restart 5/10, f = -6494.920008490626\n",
      "Optimization restart 6/10, f = -6494.920010565269\n",
      "Optimization restart 7/10, f = -6494.920010909069\n",
      "Optimization restart 8/10, f = -6494.920010349544\n",
      "Optimization restart 9/10, f = -6494.92001083287\n",
      "Optimization restart 10/10, f = -6494.920008278928\n",
      "Optimization restart 1/10, f = -7208.413468188256\n",
      "Optimization restart 2/10, f = -7208.413466007305\n",
      "Optimization restart 3/10, f = -7208.413455344524\n",
      "Optimization restart 4/10, f = -7208.413478068424\n",
      "Optimization restart 5/10, f = -7208.413472873116\n",
      "Optimization restart 6/10, f = -7208.41347825749\n",
      "Optimization restart 7/10, f = -7208.41347673151\n",
      "Optimization restart 8/10, f = -7208.413476756627\n",
      "Optimization restart 9/10, f = -7208.4134774936865\n",
      "Optimization restart 10/10, f = -7208.413477977693\n",
      "Optimization restart 1/10, f = -8004.045754476274\n",
      "Optimization restart 2/10, f = -8004.0457532674345\n",
      "Optimization restart 3/10, f = -8004.045754580124\n",
      "Optimization restart 4/10, f = -8004.045753617283\n",
      "Optimization restart 5/10, f = -8004.045753549284\n",
      "Optimization restart 6/10, f = -8004.045754541693\n",
      "Optimization restart 7/10, f = -8004.045754591337\n",
      "Optimization restart 8/10, f = -8004.0457533511635\n",
      "Optimization restart 9/10, f = -8004.045754195168\n",
      "Optimization restart 10/10, f = -8004.045754605158\n",
      "Optimization restart 1/10, f = -8787.522334280617\n",
      "Optimization restart 2/10, f = -8787.522334250058\n",
      "Optimization restart 3/10, f = -8787.522333221172\n",
      "Optimization restart 4/10, f = -8787.522334286798\n",
      "Optimization restart 5/10, f = -8787.522325469337\n",
      "Optimization restart 6/10, f = -8787.52233433373\n",
      "Optimization restart 7/10, f = -8787.522334452558\n",
      "Optimization restart 8/10, f = -8787.522334334568\n",
      "Optimization restart 9/10, f = -8787.522332969458\n",
      "Optimization restart 10/10, f = -8787.522332513854\n",
      "Optimization restart 1/10, f = -9513.546957580213\n",
      "Optimization restart 2/10, f = -9513.546967906468\n",
      "Optimization restart 3/10, f = -9513.546967839804\n",
      "Optimization restart 4/10, f = -9513.546967790367\n",
      "Optimization restart 5/10, f = -9513.546967244101\n",
      "Optimization restart 6/10, f = -9513.54696315257\n",
      "Optimization restart 7/10, f = -9513.546967784096\n",
      "Optimization restart 8/10, f = -9513.546958218118\n",
      "Optimization restart 9/10, f = -9513.54696461463\n",
      "Optimization restart 10/10, f = -9513.546967781635\n",
      "Optimization restart 1/10, f = -10326.545701426461\n",
      "Optimization restart 2/10, f = -10326.545704405537\n",
      "Optimization restart 3/10, f = -10326.545704292013\n",
      "Optimization restart 4/10, f = -10326.545704468346\n",
      "Optimization restart 5/10, f = -10326.545702664567\n",
      "Optimization restart 6/10, f = -10326.545704378277\n",
      "Optimization restart 7/10, f = -10326.54570480213\n",
      "Optimization restart 8/10, f = -10326.545704937202\n",
      "Optimization restart 9/10, f = -10326.5457028916\n",
      "Optimization restart 10/10, f = -10326.545704637922\n",
      "Optimization restart 1/10, f = -11075.0725546709\n",
      "Optimization restart 2/10, f = -11075.072549305869\n",
      "Optimization restart 3/10, f = -11075.072544155988\n",
      "Optimization restart 4/10, f = -11075.072554509941\n",
      "Optimization restart 5/10, f = -11075.072555161802\n",
      "Optimization restart 6/10, f = -11075.072554083035\n",
      "Optimization restart 7/10, f = -11075.072551879452\n",
      "Optimization restart 8/10, f = -11075.072551633077\n",
      "Optimization restart 9/10, f = -11075.072555174616\n",
      "Optimization restart 10/10, f = -11075.072551362979\n",
      "Optimization restart 1/10, f = -11862.189450471831\n",
      "Optimization restart 2/10, f = -11862.18945351183\n",
      "Optimization restart 3/10, f = -11862.189448037876\n",
      "Optimization restart 4/10, f = -11862.189439843793\n",
      "Optimization restart 5/10, f = -11862.189445402428\n",
      "Optimization restart 6/10, f = -11862.1894535541\n",
      "Optimization restart 7/10, f = -11862.18945073672\n",
      "Optimization restart 8/10, f = -11862.1894386769\n",
      "Optimization restart 9/10, f = -11862.18945349889\n",
      "Optimization restart 10/10, f = -11862.189452484996\n",
      "Optimization restart 1/10, f = -12640.527183322738\n",
      "Optimization restart 2/10, f = -12640.52718271816\n",
      "Optimization restart 3/10, f = -12640.52718278283\n",
      "Optimization restart 4/10, f = -12640.527183666522\n"
     ]
    },
    {
     "name": "stdout",
     "output_type": "stream",
     "text": [
      "Optimization restart 5/10, f = -12640.527180468955\n",
      "Optimization restart 6/10, f = -12640.527182900667\n",
      "Optimization restart 7/10, f = -12640.5271605711\n",
      "Optimization restart 8/10, f = -12640.527182976957\n",
      "Optimization restart 9/10, f = -12640.527179998866\n",
      "Optimization restart 10/10, f = -12640.527165190555\n",
      "Optimization restart 1/10, f = -13402.684008842803\n",
      "Optimization restart 2/10, f = -13402.68401027232\n",
      "Optimization restart 3/10, f = -13402.68400784503\n",
      "Optimization restart 4/10, f = -13402.684011036961\n",
      "Optimization restart 5/10, f = -13402.68401091381\n",
      "Optimization restart 6/10, f = -13402.68400366453\n",
      "Optimization restart 7/10, f = -13402.683980589376\n",
      "Optimization restart 8/10, f = -13402.684011355484\n",
      "Optimization restart 9/10, f = -13402.684011411184\n",
      "Optimization restart 10/10, f = -13402.684011743253\n",
      "Optimization restart 1/10, f = -14197.707636354799\n",
      "Optimization restart 2/10, f = -14197.70760155196\n",
      "Optimization restart 3/10, f = -14197.707636367053\n",
      "Optimization restart 4/10, f = -14197.707632612008\n",
      "Optimization restart 5/10, f = -14197.707628838072\n",
      "Optimization restart 6/10, f = -14197.70763703317\n",
      "Optimization restart 7/10, f = -14197.707637206076\n",
      "Optimization restart 8/10, f = -14197.707635882398\n",
      "Optimization restart 9/10, f = -14197.70763237576\n",
      "Optimization restart 10/10, f = -14197.707636952186\n",
      "Optimization restart 1/10, f = -15063.520147689516\n",
      "Optimization restart 2/10, f = -15063.520147753896\n",
      "Optimization restart 3/10, f = -15063.520146147534\n",
      "Optimization restart 4/10, f = -15063.520143733636\n",
      "Optimization restart 5/10, f = -15063.520143468428\n",
      "Optimization restart 6/10, f = -15063.520144570546\n",
      "Optimization restart 7/10, f = -15063.520147722613\n",
      "Optimization restart 8/10, f = -15063.520147646512\n",
      "Optimization restart 9/10, f = -15063.520145283917\n",
      "Optimization restart 10/10, f = -15063.520147586813\n",
      "Optimization restart 1/10, f = -15824.211938915543\n",
      "Optimization restart 2/10, f = -15824.211935105672\n",
      "Optimization restart 3/10, f = -15824.211938196231\n",
      "Optimization restart 4/10, f = -15824.211937850294\n",
      "Optimization restart 5/10, f = -15824.211904761041\n",
      "Optimization restart 6/10, f = -15824.211938935117\n",
      "Optimization restart 7/10, f = -15824.21193317367\n",
      "Optimization restart 8/10, f = -15824.21192673486\n",
      "Optimization restart 9/10, f = -15824.211935806194\n",
      "Optimization restart 10/10, f = -15824.211938715052\n",
      "Optimization restart 1/10, f = -16445.241956456284\n",
      "Optimization restart 2/10, f = -16445.241956003112\n",
      "Optimization restart 3/10, f = -16445.241956692662\n",
      "Optimization restart 4/10, f = -16445.24195872353\n",
      "Optimization restart 5/10, f = -16445.241957550894\n",
      "Optimization restart 6/10, f = -16445.241958516166\n",
      "Optimization restart 7/10, f = -16445.241956447728\n",
      "Optimization restart 8/10, f = -16445.2419578467\n",
      "Optimization restart 9/10, f = -16445.24195843283\n",
      "Optimization restart 10/10, f = -16445.241945821803\n",
      "Optimization restart 1/10, f = -17189.616096981998\n",
      "Optimization restart 2/10, f = -17189.616097086408\n",
      "Optimization restart 3/10, f = -17189.61609639502\n",
      "Optimization restart 4/10, f = -17189.616096779122\n",
      "Optimization restart 5/10, f = -17189.616096442936\n",
      "Optimization restart 6/10, f = -17189.616097133454\n",
      "Optimization restart 7/10, f = -17189.61608250902\n",
      "Optimization restart 8/10, f = -17189.616094122113\n",
      "Optimization restart 9/10, f = -17189.61599251329\n",
      "Optimization restart 10/10, f = -17189.616097082115\n",
      "Optimization restart 1/10, f = -18061.511110471787\n",
      "Optimization restart 2/10, f = -18061.511108567694\n",
      "Optimization restart 3/10, f = -18061.5111104629\n",
      "Optimization restart 4/10, f = -18061.51110161471\n",
      "Optimization restart 5/10, f = -18061.51110899695\n",
      "Optimization restart 6/10, f = -18061.5111095761\n",
      "Optimization restart 7/10, f = -18061.511085422546\n",
      "Optimization restart 8/10, f = -18061.51110921814\n",
      "Optimization restart 9/10, f = -18061.511109322204\n",
      "Optimization restart 10/10, f = -18061.511110309628\n",
      "Optimization restart 1/10, f = -18891.928308127528\n",
      "Optimization restart 2/10, f = -18891.928307942966\n",
      "Optimization restart 3/10, f = -18891.92830630461\n",
      "Optimization restart 4/10, f = -18891.928303372453\n",
      "Optimization restart 5/10, f = -18891.928300830517\n",
      "Optimization restart 6/10, f = -18891.92830816785\n",
      "Optimization restart 7/10, f = -18891.928303493052\n",
      "Optimization restart 8/10, f = -18891.92830445549\n",
      "Optimization restart 9/10, f = -18891.92829413175\n",
      "Optimization restart 10/10, f = -18891.92819514028\n",
      "Optimization restart 1/10, f = -19607.27089647392\n",
      "Optimization restart 2/10, f = -19607.270914670244\n",
      "Optimization restart 3/10, f = -19607.27091252501\n",
      "Optimization restart 4/10, f = -19607.270914554567\n",
      "Optimization restart 5/10, f = -19607.270914689092\n",
      "Optimization restart 6/10, f = -19607.27091434764\n",
      "Optimization restart 7/10, f = -19607.270913390086\n",
      "Optimization restart 8/10, f = -19607.270914267425\n",
      "Optimization restart 9/10, f = -19607.27090882302\n",
      "Optimization restart 10/10, f = -19607.270914782785\n",
      "Optimization restart 1/10, f = -20365.76290091628\n",
      "Optimization restart 2/10, f = -20365.762897804616\n",
      "Optimization restart 3/10, f = -20365.7628240197\n",
      "Optimization restart 4/10, f = -20365.76290096817\n",
      "Optimization restart 5/10, f = -20365.762902490773\n",
      "Optimization restart 6/10, f = -20365.762869325583\n",
      "Optimization restart 7/10, f = -20365.762902572576\n",
      "Optimization restart 8/10, f = -20365.762891271403\n",
      "Optimization restart 9/10, f = -20365.762902488797\n",
      "Optimization restart 10/10, f = -20365.762903180286\n",
      "Optimization restart 1/10, f = -21120.6409101292\n",
      "Optimization restart 2/10, f = -21120.640910319526\n",
      "Optimization restart 3/10, f = -21120.64091030394\n",
      "Optimization restart 4/10, f = -21120.640910821876\n",
      "Optimization restart 5/10, f = -21120.640866355538\n",
      "Optimization restart 6/10, f = -21120.64091127568\n",
      "Optimization restart 7/10, f = -21120.640874636043\n",
      "Optimization restart 8/10, f = -21120.640887306086\n",
      "Optimization restart 9/10, f = -21120.640886911737\n",
      "Optimization restart 10/10, f = -21120.640905200897\n",
      "Optimization restart 1/10, f = -21829.747522050326\n",
      "Optimization restart 2/10, f = -21829.747536628056\n",
      "Optimization restart 3/10, f = -21829.74753627774\n",
      "Optimization restart 4/10, f = -21829.747532396163\n",
      "Optimization restart 5/10, f = -21829.747536420786\n",
      "Optimization restart 6/10, f = -21829.747533106693\n",
      "Optimization restart 7/10, f = -21829.747535260794\n",
      "Optimization restart 8/10, f = -21829.74753621191\n",
      "Optimization restart 9/10, f = -21829.7475363502\n",
      "Optimization restart 10/10, f = -21829.74753473167\n",
      "Optimization restart 1/10, f = -22563.997175221226\n",
      "Optimization restart 2/10, f = -22563.99715568938\n",
      "Optimization restart 3/10, f = -22563.997171331735\n",
      "Optimization restart 4/10, f = -22563.997167091107\n",
      "Optimization restart 5/10, f = -22563.997175986144\n",
      "Optimization restart 6/10, f = -22563.997166295747\n",
      "Optimization restart 7/10, f = -22563.997175346023\n",
      "Optimization restart 8/10, f = -22563.997147855305\n",
      "Optimization restart 9/10, f = -22563.99717603819\n",
      "Optimization restart 10/10, f = -22563.99717125234\n",
      "Optimization restart 1/10, f = -23232.861561664973\n",
      "Optimization restart 2/10, f = -23232.861587471096\n",
      "Optimization restart 3/10, f = -23232.861609780448\n",
      "Optimization restart 4/10, f = -23232.861613191337\n",
      "Optimization restart 5/10, f = -23232.861609955216\n",
      "Optimization restart 6/10, f = -23232.861612822922\n",
      "Optimization restart 7/10, f = -23232.861601941444\n",
      "Optimization restart 8/10, f = -23232.86156172656\n",
      "Optimization restart 9/10, f = -23232.86161181509\n",
      "Optimization restart 10/10, f = -23232.86161287923\n",
      "Optimization restart 1/10, f = -24064.797107709393\n",
      "Optimization restart 2/10, f = -24064.797107600552\n",
      "Optimization restart 3/10, f = -24064.797107675622\n",
      "Optimization restart 4/10, f = -24064.79710351534\n",
      "Optimization restart 5/10, f = -24064.797075711795\n",
      "Optimization restart 6/10, f = -24064.797096708913\n",
      "Optimization restart 7/10, f = -24064.797045775136\n",
      "Optimization restart 8/10, f = -24064.797107405473\n",
      "Optimization restart 9/10, f = -24064.797107718765\n",
      "Optimization restart 10/10, f = -24064.79710595284\n",
      "Optimization restart 1/10, f = -24810.894349033453\n",
      "Optimization restart 2/10, f = -24810.89435142954\n",
      "Optimization restart 3/10, f = -24810.89416936565\n",
      "Optimization restart 4/10, f = -24810.894344826822\n",
      "Optimization restart 5/10, f = -24810.894334236582\n",
      "Optimization restart 6/10, f = -24810.894349598493\n",
      "Optimization restart 7/10, f = -24810.894301935932\n"
     ]
    },
    {
     "name": "stdout",
     "output_type": "stream",
     "text": [
      "Optimization restart 8/10, f = -24810.894350587245\n",
      "Optimization restart 9/10, f = -24810.89432413805\n",
      "Optimization restart 10/10, f = -24810.89433126917\n",
      "Optimization restart 1/10, f = -25696.804009242936\n",
      "Optimization restart 2/10, f = -25696.80379680286\n",
      "Optimization restart 3/10, f = -25696.804010663593\n",
      "Optimization restart 4/10, f = -25696.803990695167\n",
      "Optimization restart 5/10, f = -25696.804000024706\n",
      "Optimization restart 6/10, f = -25696.80400600749\n",
      "Optimization restart 7/10, f = -25696.80400835369\n",
      "Optimization restart 8/10, f = -25696.804010459797\n",
      "Optimization restart 9/10, f = -25696.80396565972\n",
      "Optimization restart 10/10, f = -25696.804004486345\n",
      "Optimization restart 1/10, f = -26498.118963607154\n",
      "Optimization restart 2/10, f = -26498.118990099065\n",
      "Optimization restart 3/10, f = -26498.11898929582\n",
      "Optimization restart 4/10, f = -26498.118990595736\n",
      "Optimization restart 5/10, f = -26498.118978970833\n",
      "Optimization restart 6/10, f = -26498.118988170325\n",
      "Optimization restart 7/10, f = -26498.118957009814\n",
      "Optimization restart 8/10, f = -26498.118988334696\n",
      "Optimization restart 9/10, f = -26498.11898938113\n",
      "Optimization restart 10/10, f = -26498.118938131523\n",
      "Optimization restart 1/10, f = -27226.497365865434\n",
      "Optimization restart 2/10, f = -27226.49738118601\n",
      "Optimization restart 3/10, f = -27226.497372865495\n",
      "Optimization restart 4/10, f = -27226.49738377944\n",
      "Optimization restart 5/10, f = -27226.49738207999\n",
      "Optimization restart 6/10, f = -27226.497324887423\n",
      "Optimization restart 7/10, f = -27226.497381468023\n",
      "Optimization restart 8/10, f = -27226.497383936603\n",
      "Optimization restart 9/10, f = -27226.49734158132\n",
      "Optimization restart 10/10, f = -27226.497382171732\n",
      "Optimization restart 1/10, f = -28047.45098185762\n",
      "Optimization restart 2/10, f = -28047.450925670993\n",
      "Optimization restart 3/10, f = -28047.450894539856\n",
      "Optimization restart 4/10, f = -28047.450980397753\n",
      "Optimization restart 5/10, f = -28047.45098211219\n",
      "Optimization restart 6/10, f = -28047.450982261584\n",
      "Optimization restart 7/10, f = -28047.45098163911\n",
      "Optimization restart 8/10, f = -28047.450964449814\n",
      "Optimization restart 9/10, f = -28047.45098211197\n",
      "Optimization restart 10/10, f = -28047.450976301287\n",
      "Optimization restart 1/10, f = -28849.764460196948\n",
      "Optimization restart 2/10, f = -28849.76446165816\n",
      "Optimization restart 3/10, f = -28849.76446215455\n",
      "Optimization restart 4/10, f = -28849.76444251083\n",
      "Optimization restart 5/10, f = -28849.764460920785\n",
      "Optimization restart 6/10, f = -28849.764458930276\n",
      "Optimization restart 7/10, f = -28849.764219268025\n",
      "Optimization restart 8/10, f = -28849.764459450347\n",
      "Optimization restart 9/10, f = -28849.76439116563\n",
      "Optimization restart 10/10, f = -28849.7644545734\n",
      "Optimization restart 1/10, f = -29717.702759625256\n",
      "Optimization restart 2/10, f = -29717.70276209405\n",
      "Optimization restart 3/10, f = -29717.702711786413\n",
      "Optimization restart 4/10, f = -29717.702761333523\n",
      "Optimization restart 5/10, f = -29717.702762764897\n",
      "Optimization restart 6/10, f = -29717.70276215655\n",
      "Optimization restart 7/10, f = -29717.702756987695\n",
      "Optimization restart 8/10, f = -29717.702762707693\n",
      "Optimization restart 9/10, f = -29717.702761216286\n",
      "Optimization restart 10/10, f = -29717.702650494084\n",
      "Optimization restart 1/10, f = -30352.43118291782\n",
      "Optimization restart 2/10, f = -30352.43119135715\n",
      "Optimization restart 3/10, f = -30352.43120001529\n",
      "Optimization restart 4/10, f = -30352.431197103608\n",
      "Optimization restart 5/10, f = -30352.431189839597\n",
      "Optimization restart 6/10, f = -30352.431199547456\n",
      "Optimization restart 7/10, f = -30352.43119769745\n",
      "Optimization restart 8/10, f = -30352.43119854235\n",
      "Optimization restart 9/10, f = -30352.43119964104\n",
      "Optimization restart 10/10, f = -30352.431199999577\n",
      "Optimization restart 1/10, f = -31180.549825337228\n",
      "Optimization restart 2/10, f = -31180.549898227597\n",
      "Optimization restart 3/10, f = -31180.549851727526\n",
      "Optimization restart 4/10, f = -31180.549985938756\n",
      "Optimization restart 5/10, f = -31180.549966952458\n",
      "Optimization restart 6/10, f = -31180.54998496673\n",
      "Optimization restart 7/10, f = -31180.549957363666\n",
      "Optimization restart 8/10, f = -31180.549984762278\n",
      "Optimization restart 9/10, f = -31180.549985976853\n",
      "Optimization restart 10/10, f = -31180.549977981478\n",
      "Optimization restart 1/10, f = -31830.338551415596\n",
      "Optimization restart 2/10, f = -31830.338419479904\n",
      "Optimization restart 3/10, f = -31830.338660177793\n",
      "Optimization restart 4/10, f = -31830.338736709786\n",
      "Optimization restart 5/10, f = -31830.338690378405\n",
      "Optimization restart 6/10, f = -31830.338725222853\n",
      "Optimization restart 7/10, f = -31830.338734154895\n",
      "Optimization restart 8/10, f = -31830.338688617114\n",
      "Optimization restart 9/10, f = -31830.33872909453\n",
      "Optimization restart 10/10, f = -31830.338638122794\n",
      "Optimization restart 1/10, f = -32633.89792080981\n",
      "Optimization restart 2/10, f = -32633.89792700261\n",
      "Optimization restart 3/10, f = -32633.89781745625\n",
      "Optimization restart 4/10, f = -32633.897923223885\n",
      "Optimization restart 5/10, f = -32633.897926907062\n",
      "Optimization restart 6/10, f = -32633.8977814304\n",
      "Optimization restart 7/10, f = -32633.897846920267\n",
      "Optimization restart 8/10, f = -32633.897922922868\n",
      "Optimization restart 9/10, f = -32633.897887173192\n",
      "Optimization restart 10/10, f = -32633.89787567612\n",
      "Optimization restart 1/10, f = -33474.967859645105\n",
      "Optimization restart 2/10, f = -33474.9678482644\n",
      "Optimization restart 3/10, f = -33474.96786082529\n",
      "Optimization restart 4/10, f = -33474.96783466646\n",
      "Optimization restart 5/10, f = -33474.966469574356\n",
      "Optimization restart 6/10, f = -33474.967836772696\n",
      "Optimization restart 7/10, f = -33474.96785527554\n",
      "Optimization restart 8/10, f = -33474.96784887242\n",
      "Optimization restart 9/10, f = -33474.96786134587\n",
      "Optimization restart 10/10, f = -33474.967861345984\n",
      "Optimization restart 1/10, f = -34364.63592346318\n",
      "Optimization restart 2/10, f = -34364.63593525373\n",
      "Optimization restart 3/10, f = -34364.63593479604\n",
      "Optimization restart 4/10, f = -34364.63553807256\n",
      "Optimization restart 5/10, f = -34364.635934383776\n",
      "Optimization restart 6/10, f = -34364.6359339388\n",
      "Optimization restart 7/10, f = -34364.63591379481\n",
      "Optimization restart 8/10, f = -34364.63593144731\n",
      "Optimization restart 9/10, f = -34364.63593523378\n",
      "Optimization restart 10/10, f = -34364.63592727204\n",
      "Optimization restart 1/10, f = -35214.782143702796\n",
      "Optimization restart 2/10, f = -35214.78214039153\n",
      "Optimization restart 3/10, f = -35214.782124417325\n",
      "Optimization restart 4/10, f = -35214.78212342315\n",
      "Optimization restart 5/10, f = -35214.78214055968\n",
      "Optimization restart 6/10, f = -35214.78214109523\n",
      "Optimization restart 7/10, f = -35214.78213434209\n",
      "Optimization restart 8/10, f = -35214.782143583034\n",
      "Optimization restart 9/10, f = -35214.78207495656\n",
      "Optimization restart 10/10, f = -35214.78213100991\n",
      "Optimization restart 1/10, f = -36063.201926391615\n",
      "Optimization restart 2/10, f = -36063.20192057689\n",
      "Optimization restart 3/10, f = -36063.201923156885\n",
      "Optimization restart 4/10, f = -36063.20192404979\n",
      "Optimization restart 5/10, f = -36063.201879403365\n",
      "Optimization restart 6/10, f = -36063.20192597594\n",
      "Optimization restart 7/10, f = -36063.201921232736\n",
      "Optimization restart 8/10, f = -36063.2019053507\n",
      "Optimization restart 9/10, f = -36063.20190488011\n",
      "Optimization restart 10/10, f = -36063.20189633735\n",
      "Optimization restart 1/10, f = -36865.7329384293\n",
      "Optimization restart 2/10, f = -36865.73292945707\n",
      "Optimization restart 3/10, f = -36865.73293727754\n",
      "Optimization restart 4/10, f = -36865.73293736312\n",
      "Optimization restart 5/10, f = -36865.73293821263\n",
      "Optimization restart 6/10, f = -36865.73293703936\n",
      "Optimization restart 7/10, f = -36865.73293434543\n",
      "Optimization restart 8/10, f = -36865.732851981455\n",
      "Optimization restart 9/10, f = -36865.73292630473\n",
      "Optimization restart 10/10, f = -36865.73293216188\n",
      "Optimization restart 1/10, f = -37733.13389369328\n",
      "Optimization restart 2/10, f = -37733.13389884321\n",
      "Optimization restart 3/10, f = -37733.133883605646\n",
      "Optimization restart 4/10, f = -37733.13388374079\n",
      "Optimization restart 5/10, f = -37733.1339018309\n",
      "Optimization restart 6/10, f = -37733.1338829768\n",
      "Optimization restart 7/10, f = -37733.13388016404\n",
      "Optimization restart 8/10, f = -37733.13383584576\n",
      "Optimization restart 9/10, f = -37733.13390075521\n",
      "Optimization restart 10/10, f = -37733.1338880296\n"
     ]
    },
    {
     "data": {
      "text/plain": [
       "(49, 60, 96)"
      ]
     },
     "execution_count": 47,
     "metadata": {},
     "output_type": "execute_result"
    }
   ],
   "source": [
    "# A loop to train and test\n",
    "test_points = [6 * i for i in range(2, 51)]\n",
    "\n",
    "errors = []\n",
    "\n",
    "for n_lf in test_points:\n",
    "    x = x_train[:n_lf]\n",
    "    y = y_train[:n_lf]\n",
    "    \n",
    "    # Build your GP here\n",
    "    nparams = np.shape(x)[1]\n",
    "\n",
    "    kernel = GPy.kern.RBF(nparams, ARD=True)            \n",
    "\n",
    "    gp = GPy.models.GPRegression(x, y, kernel)\n",
    "    \n",
    "    gp.optimize_restarts(10)\n",
    "    \n",
    "    # pred test set\n",
    "    mean, variance = gp.predict(x_test)\n",
    "    error = mean / y_test\n",
    "\n",
    "    errors.append(error)\n",
    "    \n",
    "errors = np.array(errors)\n",
    "errors.shape"
   ]
  },
  {
   "cell_type": "code",
   "execution_count": 58,
   "id": "8d2463db",
   "metadata": {},
   "outputs": [
    {
     "data": {
      "text/plain": [
       "[<matplotlib.lines.Line2D at 0x7faff9e24550>]"
      ]
     },
     "execution_count": 58,
     "metadata": {},
     "output_type": "execute_result"
    },
    {
     "data": {
      "image/png": "[encoded data removed]",
      "text/plain": [
       "<Figure size 432x288 with 1 Axes>"
      ]
     },
     "metadata": {
      "needs_background": "light"
     },
     "output_type": "display_data"
    }
   ],
   "source": [
    "mean = np.abs(errors - 1).mean(axis=(1, 2))\n",
    "std  = np.abs(errors - 1).std(axis=(1, 2))\n",
    "\n",
    "plt.loglog(test_points, mean)\n",
    "# plt.fill_between(test_points, y1=mean - std, y2=mean + std, alpha=0.2)\n",
    "\n",
    "# plt.fill_between(test_points, y1=mean - std, y2=mean + std, alpha=0.2)"
   ]
  },
  {
   "cell_type": "code",
   "execution_count": null,
   "id": "c50b2a89",
   "metadata": {},
   "outputs": [],
   "source": []
  }
 ],
 "metadata": {
  "kernelspec": {
   "display_name": "Python 3",
   "language": "python",
   "name": "python3"
  },
  "language_info": {
   "codemirror_mode": {
    "name": "ipython",
    "version": 3
   },
   "file_extension": ".py",
   "mimetype": "text/x-python",
   "name": "python",
   "nbconvert_exporter": "python",
   "pygments_lexer": "ipython3",
   "version": "3.6.13"
  }
 },
 "nbformat": 4,
 "nbformat_minor": 5
}
