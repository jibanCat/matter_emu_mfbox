{
 "cells": [
  {
   "cell_type": "code",
   "execution_count": 1,
   "id": "9d3e5aac",
   "metadata": {},
   "outputs": [],
   "source": [
    "from typing import Optional"
   ]
  },
  {
   "cell_type": "code",
   "execution_count": 2,
   "id": "3bce1ca7",
   "metadata": {},
   "outputs": [
    {
     "data": {
      "text/plain": [
       "'/home/jibancat/Documents/PYTHON/emu_slhd'"
      ]
     },
     "execution_count": 2,
     "metadata": {},
     "output_type": "execute_result"
    }
   ],
   "source": [
    "# if you are in the root folder, don't run this line\n",
    "import os\n",
    "\n",
    "os.chdir(\"..\")\n",
    "os.getcwd()"
   ]
  },
  {
   "cell_type": "code",
   "execution_count": 4,
   "id": "923b04d3",
   "metadata": {},
   "outputs": [],
   "source": [
    "from typing import List\n",
    "\n",
    "import numpy as np\n",
    "from matplotlib import pyplot as plt\n",
    "import matplotlib\n",
    "\n",
    "from matter_multi_fidelity_emu.gpemulator_singlebin import (\n",
    "    SingleBinGP,\n",
    "    SingleBinLinearGP,\n",
    "    SingleBinNonLinearGP,\n",
    ")"
   ]
  },
  {
   "cell_type": "code",
   "execution_count": 5,
   "id": "e526b15f",
   "metadata": {},
   "outputs": [],
   "source": [
    "def generate_data(folder: str = \"data_slhd/slhd_60_dmonly256_256mpc_3-sl-0-1-2_dmonly512_256mpc_mpgadgetpower/\"):\n",
    "    data = PowerSpecs(folder=folder)\n",
    "    return data\n",
    "plt.loglog(10**data.kf, 10**data.Y_train[1][0])"
   ]
  },
  {
   "cell_type": "markdown",
   "id": "2cdd265f",
   "metadata": {},
   "source": [
    "## Find the HR choices\n",
    "\n",
    "The following outlines the procedure to select 3 cosmologies for high-fidelity training set\n",
    "out of low-fidelity latin hypercube (which has 50 cosmologies).\n",
    "\n",
    "This simple procedure will find the optimal 2 cosmologies first by optizing the low-fidelity only\n",
    "emulator. This is done by searching all combinations of 2 cosmologies in the LF lating hypercube.\n",
    "\n",
    "Conditioning on the selected 2 cosmologies, we perform the optimization again to find the 3rd\n",
    "high-fidelity selection."
   ]
  },
  {
   "cell_type": "code",
   "execution_count": 6,
   "id": "3d3a3859",
   "metadata": {},
   "outputs": [],
   "source": [
    "# acquire data object, the text files \n",
    "data = generate_data()\n",
    "\n",
    "i_fidelity = 0\n",
    "\n",
    "X = data.X_train_norm[i_fidelity]\n",
    "Y = data.Y_train[i_fidelity]\n",
    "\n",
    "train_opt = TrainSetOptimize(X=X, Y=Y)\n",
    "\n",
    "# find the optimal two indices first;\n",
    "# looking for all possible combinations\n",
    "num_samples, _ = data.X_train[0].shape\n",
    "num_selected = 3\n",
    "\n",
    "all_combinations = list(combinations(range(num_samples), num_selected))"
   ]
  },
  {
   "cell_type": "code",
   "execution_count": 7,
   "id": "894b86ec",
   "metadata": {},
   "outputs": [
    {
     "data": {
      "text/plain": [
       "[<matplotlib.lines.Line2D at 0x7f85411987f0>]"
      ]
     },
     "execution_count": 7,
     "metadata": {},
     "output_type": "execute_result"
    },
    {
     "data": {
      "image/png": "[encoded data removed]",
      "text/plain": [
       "<Figure size 432x288 with 1 Axes>"
      ]
     },
     "metadata": {
      "needs_background": "light"
     },
     "output_type": "display_data"
    }
   ],
   "source": [
    "plt.loglog(10**data.kf, 10**data.Y_train[0][0])\n",
    "plt.loglog(10**data.kf, 10**data.Y_train[1][0])"
   ]
  },
  {
   "cell_type": "code",
   "execution_count": 12,
   "id": "d1ba6b1e",
   "metadata": {
    "scrolled": true
   },
   "outputs": [],
   "source": [
    "%%capture\n",
    "# loop over to get the least loss 2 indices\n",
    "all_loss = []\n",
    "\n",
    "for i,selected_index in enumerate(all_combinations):\n",
    "\n",
    "    # need to convert to boolean array\n",
    "    ind = np.zeros(num_samples, dtype=np.bool)\n",
    "    ind[np.array(selected_index)] = True\n",
    "\n",
    "    loss = train_opt.loss(ind)\n",
    "    \n",
    "    print(\"iteration:\", i)\n",
    "\n",
    "    all_loss.append(loss)"
   ]
  },
  {
   "cell_type": "code",
   "execution_count": 13,
   "id": "425dec7a",
   "metadata": {},
   "outputs": [
    {
     "data": {
      "text/plain": [
       "array([21, 31, 56])"
      ]
     },
     "execution_count": 13,
     "metadata": {},
     "output_type": "execute_result"
    }
   ],
   "source": [
    "# find the set of indices best minimize the loss\n",
    "selected_index = np.array(all_combinations[np.argmin(all_loss)])\n",
    "\n",
    "selected_index"
   ]
  },
  {
   "cell_type": "markdown",
   "id": "db24056f",
   "metadata": {},
   "source": [
    "## Procedure to find the next optimal index"
   ]
  },
  {
   "cell_type": "code",
   "execution_count": 10,
   "id": "bea606c9",
   "metadata": {},
   "outputs": [],
   "source": [
    "# find the 3rd HighRes selection\n",
    "prev_ind = np.zeros(num_samples, dtype=np.bool)\n",
    "prev_ind[np.array(selected_index)] = True\n",
    "\n",
    "assert np.sum(prev_ind) == len(selected_index)"
   ]
  },
  {
   "cell_type": "code",
   "execution_count": 11,
   "id": "20b19469",
   "metadata": {
    "scrolled": true
   },
   "outputs": [],
   "source": [
    "%%capture\n",
    "next_index, all_next_loss = train_opt.optimize(prev_ind,)"
   ]
  },
  {
   "cell_type": "code",
   "execution_count": 12,
   "id": "fa59e1b7",
   "metadata": {
    "scrolled": true
   },
   "outputs": [
    {
     "data": {
      "text/plain": [
       "array([35, 38, 36])"
      ]
     },
     "execution_count": 12,
     "metadata": {},
     "output_type": "execute_result"
    }
   ],
   "source": [
    "# optimal next selection indices\n",
    "optimal_index = np.append(selected_index, next_index)\n",
    "\n",
    "optimal_index"
   ]
  },
  {
   "cell_type": "code",
   "execution_count": 13,
   "id": "aad804a8",
   "metadata": {},
   "outputs": [],
   "source": [
    "# the high-fidelity selection is a subset of low-fidelity latin hypercube\n",
    "# the above cell output means 19th, 37th and 45th cosmologies are the\n",
    "# choice for the high-fidelity simulation training set."
   ]
  },
  {
   "cell_type": "code",
   "execution_count": 14,
   "id": "ee5d604e",
   "metadata": {},
   "outputs": [
    {
     "data": {
      "text/plain": [
       "array([[3.69333333e-01, 4.45000000e-02, 7.25000000e-01, 2.18666667e-09,\n",
       "        9.84666667e-01],\n",
       "       [3.56000000e-01, 4.61666667e-02, 6.11000000e-01, 2.04000000e-09,\n",
       "        9.40666667e-01],\n",
       "       [2.84000000e-01, 5.81666667e-02, 6.81000000e-01, 2.36000000e-09,\n",
       "        9.83333333e-01]])"
      ]
     },
     "execution_count": 14,
     "metadata": {},
     "output_type": "execute_result"
    }
   ],
   "source": [
    "# cosmologies:\n",
    "# \"omega0\", \"omegab\", \"hubble\", \"scalar_amp\", \"ns\"\n",
    "data.X_train[0][optimal_index]"
   ]
  },
  {
   "cell_type": "markdown",
   "id": "1c9e4966",
   "metadata": {},
   "source": [
    "## Procedure to select the best slice"
   ]
  },
  {
   "cell_type": "code",
   "execution_count": 8,
   "id": "07b20819",
   "metadata": {
    "scrolled": true
   },
   "outputs": [
    {
     "name": "stdout",
     "output_type": "stream",
     "text": [
      "Optimization restart 1/5, f = -29.37325459569888\n",
      "Optimization restart 2/5, f = -29.37325230936426\n",
      "Optimization restart 3/5, f = -29.373252663283836\n",
      "Optimization restart 4/5, f = -28.86126675626275\n"
     ]
    },
    {
     "name": "stderr",
     "output_type": "stream",
     "text": [
      " /home/jibancat/.pyenv/versions/miniconda3-4.3.31/lib/python3.6/site-packages/GPy/kern/src/stationary.py:137: RuntimeWarning:overflow encountered in square\n",
      " /home/jibancat/.pyenv/versions/miniconda3-4.3.31/lib/python3.6/site-packages/GPy/kern/src/stationary.py:138: RuntimeWarning:invalid value encountered in add\n"
     ]
    },
    {
     "name": "stdout",
     "output_type": "stream",
     "text": [
      "Optimization restart 5/5, f = -29.373253254307315\n",
      "iteration: 0\n",
      "Optimization restart 1/5, f = 92.28365075772558\n",
      "Optimization restart 2/5, f = 92.28371185209824\n",
      "Optimization restart 3/5, f = 92.28364974482224\n",
      "Optimization restart 4/5, f = 92.28365070633998\n",
      "Optimization restart 5/5, f = 92.28365656404708\n",
      "iteration: 1\n",
      "Optimization restart 1/5, f = -90.82621697244895\n",
      "Optimization restart 2/5, f = -90.82623522269967\n",
      "Optimization restart 3/5, f = -90.82623541716816\n",
      "Optimization restart 4/5, f = -90.82620597874234\n",
      "Optimization restart 5/5, f = -90.8260176971898\n",
      "iteration: 2\n",
      "Optimization restart 1/5, f = 58.91577787053808\n",
      "Optimization restart 2/5, f = 58.91577657781369\n",
      "Optimization restart 3/5, f = 58.91579307022687\n",
      "Optimization restart 4/5, f = 58.91600607654715\n",
      "Optimization restart 5/5, f = 58.915775512384016\n",
      "iteration: 3\n",
      "Optimization restart 1/5, f = 91.58513013568682\n",
      "Optimization restart 2/5, f = 91.58492583642249\n",
      "Optimization restart 3/5, f = 91.58492700406197\n",
      "Optimization restart 4/5, f = 91.58492559435012\n",
      "Optimization restart 5/5, f = 91.58492643509686\n",
      "iteration: 4\n",
      "Optimization restart 1/5, f = 169.0468805449795\n",
      "Optimization restart 2/5, f = 169.04778218175676\n",
      "Optimization restart 3/5, f = 160.05560326498664\n",
      "Optimization restart 4/5, f = 160.05559503489434\n",
      "Optimization restart 5/5, f = 160.05557420263733\n",
      "iteration: 5\n",
      "Optimization restart 1/5, f = -104.83716961247302\n",
      "Optimization restart 2/5, f = -104.8371672490577\n",
      "Optimization restart 3/5, f = -104.83716842510233\n",
      "Optimization restart 4/5, f = -104.83716733219552\n",
      "Optimization restart 5/5, f = -104.83715628334818\n",
      "iteration: 6\n",
      "Optimization restart 1/5, f = 100.29347937926207\n",
      "Optimization restart 2/5, f = 100.29348207577351\n",
      "Optimization restart 3/5, f = 100.29347890115633\n",
      "Optimization restart 4/5, f = 100.29348157459748\n",
      "Optimization restart 5/5, f = 100.29348595492507\n",
      "iteration: 7\n",
      "Optimization restart 1/5, f = 107.5833799398707\n",
      "Optimization restart 2/5, f = 107.58340676982883\n",
      "Optimization restart 3/5, f = 107.58339524889129\n",
      "Optimization restart 4/5, f = 107.58517519580641\n",
      "Optimization restart 5/5, f = 107.58339093632767\n",
      "iteration: 8\n",
      "Optimization restart 1/5, f = 130.28122876219646\n",
      "Optimization restart 2/5, f = 130.2812516999856\n",
      "Optimization restart 3/5, f = 130.28122882021086\n",
      "Optimization restart 4/5, f = 130.28127759743887\n",
      "Optimization restart 5/5, f = 130.28704487840116\n",
      "iteration: 9\n",
      "Optimization restart 1/5, f = 46.46490363720693\n",
      "Optimization restart 2/5, f = 46.46489338013083\n",
      "Optimization restart 3/5, f = 46.464890556259604\n",
      "Optimization restart 4/5, f = 46.46489082594553\n",
      "Optimization restart 5/5, f = 46.46490335878286\n",
      "iteration: 10\n",
      "Optimization restart 1/5, f = 24.10874040343856\n",
      "Optimization restart 2/5, f = 24.10760652868896\n",
      "Optimization restart 3/5, f = 24.107634415572704\n",
      "Optimization restart 4/5, f = 24.107629350288278\n",
      "Optimization restart 5/5, f = 105.58843359649912\n",
      "iteration: 11\n",
      "Optimization restart 1/5, f = -259.23303669781166\n",
      "Optimization restart 2/5, f = -257.69370475640477\n",
      "Optimization restart 3/5, f = -257.92645859560724\n",
      "Optimization restart 4/5, f = -259.23306030432224\n",
      "Optimization restart 5/5, f = -257.69416410716855\n",
      "iteration: 12\n",
      "Optimization restart 1/5, f = 123.99691814120126\n",
      "Optimization restart 2/5, f = 124.00056350404839\n",
      "Optimization restart 3/5, f = 123.99693499494418\n",
      "Optimization restart 4/5, f = 210.09378554558958\n",
      "Optimization restart 5/5, f = 123.99692535693111\n",
      "iteration: 13\n",
      "Optimization restart 1/5, f = 39.69854502475704\n",
      "Optimization restart 2/5, f = 38.83056461340817\n",
      "Optimization restart 3/5, f = 39.698154311645624\n",
      "Optimization restart 4/5, f = 38.83056665206749\n",
      "Optimization restart 5/5, f = 39.6985510493908\n",
      "iteration: 14\n",
      "Optimization restart 1/5, f = 236.3309401413746\n",
      "Optimization restart 2/5, f = 236.33094109946288\n",
      "Optimization restart 3/5, f = 236.3309766166797\n",
      "Optimization restart 4/5, f = 236.3309422589402\n",
      "Optimization restart 5/5, f = 236.3309416057811\n",
      "iteration: 15\n",
      "Optimization restart 1/5, f = -13.923675567478654\n",
      "Optimization restart 2/5, f = -13.922810523353178\n",
      "Optimization restart 3/5, f = 14.517064003030953\n",
      "Optimization restart 4/5, f = -13.92367597661837\n",
      "Optimization restart 5/5, f = -13.923672857844224\n",
      "iteration: 16\n",
      "Optimization restart 1/5, f = 26.158464412227715\n",
      "Optimization restart 2/5, f = 26.158465116385855\n",
      "Optimization restart 3/5, f = 26.158465267563315\n",
      "Optimization restart 4/5, f = 26.158464315305025\n",
      "Optimization restart 5/5, f = 26.160838920735728\n",
      "iteration: 17\n",
      "Optimization restart 1/5, f = 83.60649335036527\n",
      "Optimization restart 2/5, f = 83.60647552284513\n",
      "Optimization restart 3/5, f = 83.6064861384441\n",
      "Optimization restart 4/5, f = 83.60647956448867\n",
      "Optimization restart 5/5, f = 587.793411325992\n",
      "iteration: 18\n"
     ]
    },
    {
     "name": "stderr",
     "output_type": "stream",
     "text": [
      " /home/jibancat/.pyenv/versions/miniconda3-4.3.31/lib/python3.6/site-packages/GPy/kern/src/stationary.py:243: RuntimeWarning:invalid value encountered in true_divide\n"
     ]
    },
    {
     "name": "stdout",
     "output_type": "stream",
     "text": [
      "Optimization restart 1/5, f = 203.7291596536088\n",
      "Optimization restart 2/5, f = 203.72914864470823\n",
      "Optimization restart 3/5, f = 203.72914588183306\n",
      "Optimization restart 4/5, f = 203.72915309502824\n",
      "Optimization restart 5/5, f = 203.72914607681184\n",
      "iteration: 19\n"
     ]
    }
   ],
   "source": [
    "# loop over each slice and seclect the best slice\n",
    "# The number of slices\n",
    "num_slices = 20\n",
    "# The number of design points (runs) in each slice.\n",
    "len_slice = 3\n",
    "\n",
    "all_slices = np.arange(len_slice * num_slices).reshape(num_slices, len_slice)\n",
    "\n",
    "# loop over to get all losses for all slices\n",
    "all_slice_loss = []\n",
    "\n",
    "\n",
    "for i,selected_index in enumerate(all_slices):\n",
    "\n",
    "    # need to convert to boolean array\n",
    "    ind = np.zeros(num_samples, dtype=np.bool)\n",
    "    ind[np.array(selected_index)] = True\n",
    "\n",
    "    loss = train_opt.loss(ind)\n",
    "    \n",
    "    print(\"iteration:\", i)\n",
    "\n",
    "    all_slice_loss.append(loss)"
   ]
  },
  {
   "cell_type": "code",
   "execution_count": 9,
   "id": "ae8d47e9",
   "metadata": {},
   "outputs": [
    {
     "data": {
      "text/plain": [
       "[0.014290675430176649,\n",
       " 0.023392769184441182,\n",
       " 0.02563827194395652,\n",
       " 0.02797731586520034,\n",
       " 0.051000111558554086,\n",
       " 0.010381539034716385,\n",
       " 0.023152517425824765,\n",
       " 0.015824269361890013,\n",
       " 0.07494134034021767,\n",
       " 0.009209836356578328,\n",
       " 0.03054693993340719,\n",
       " 0.03848394716679308,\n",
       " 0.026660847691670098,\n",
       " 0.08422682986948411,\n",
       " 0.021055380436598607,\n",
       " 0.03129487395627106,\n",
       " 0.02978107902907923,\n",
       " 0.043153762239831424,\n",
       " 0.07032301110871679,\n",
       " 0.008436106988738899]"
      ]
     },
     "execution_count": 9,
     "metadata": {},
     "output_type": "execute_result"
    }
   ],
   "source": [
    "all_slice_loss"
   ]
  },
  {
   "cell_type": "code",
   "execution_count": 17,
   "id": "b73699e9",
   "metadata": {},
   "outputs": [],
   "source": [
    "def better_than(\n",
    "        num_selected: int, num_samples: int, selected_index: List, all_z_loss: List,\n",
    "        loss_sum_z: Optional[List], zout: List,\n",
    "    )-> None:\n",
    "    \"\"\"\n",
    "    Small function to check the performance of your selection across redshifts. \n",
    "\n",
    "    Parameters:\n",
    "    ----\n",
    "    num_selected: the number of selected HF simulations.\n",
    "    num_samples: the total number of simulations in LF.\n",
    "    selected_index: the selected optimal index, shape=(num of selected points)\n",
    "    all_z_loss: the loss of LF emulator, shape=(zs, num of selections)\n",
    "    loss_sum_z: the loss of LF emulator across redshifts, shape=(num of selections, )\n",
    "    zout: redshifts, shape=(zs, )\n",
    "    \"\"\"\n",
    "\n",
    "    all_combinations = np.array(list(combinations(range(num_samples), num_selected)))\n",
    "\n",
    "    # what's the index of our optimal selection\n",
    "    idx = np.where(np.all(all_combinations == np.sort(selected_index), axis=1))[0][0]\n",
    "\n",
    "#     for i, loss in enumerate(all_z_loss):\n",
    "    # how many selections have larger loss than our optimal one?\n",
    "    better_than = np.sum(loss[idx] < np.array(loss)) / len(loss)\n",
    "    print(\"Better than {:.3g} of the selections at z = {:.2g}\".format(better_than, zout[i]))\n",
    "\n",
    "    # compared with summing across redshifts\n",
    "    better_than = np.sum(loss_sum_z[idx] < np.array(loss_sum_z)) / len(loss_sum_z)\n",
    "    print(\"Better than {:.3g} of the selections (summing over all redshifts)\".format(better_than))\n"
   ]
  },
  {
   "cell_type": "code",
   "execution_count": 21,
   "id": "e4c070c3",
   "metadata": {},
   "outputs": [
    {
     "name": "stdout",
     "output_type": "stream",
     "text": [
      "0 slice. Better than 0.881 of the selections\n",
      "1 slice. Better than 0.734 of the selections\n",
      "2 slice. Better than 0.69 of the selections\n",
      "3 slice. Better than 0.634 of the selections\n",
      "4 slice. Better than 0.321 of the selections\n",
      "5 slice. Better than 0.958 of the selections\n",
      "6 slice. Better than 0.738 of the selections\n",
      "7 slice. Better than 0.854 of the selections\n",
      "8 slice. Better than 0.198 of the selections\n",
      "9 slice. Better than 0.973 of the selections\n",
      "10 slice. Better than 0.577 of the selections\n",
      "11 slice. Better than 0.441 of the selections\n",
      "12 slice. Better than 0.665 of the selections\n",
      "13 slice. Better than 0.172 of the selections\n",
      "14 slice. Better than 0.773 of the selections\n",
      "15 slice. Better than 0.56 of the selections\n",
      "16 slice. Better than 0.595 of the selections\n",
      "17 slice. Better than 0.391 of the selections\n",
      "18 slice. Better than 0.216 of the selections\n",
      "19 slice. Better than 0.983 of the selections\n"
     ]
    }
   ],
   "source": [
    "for i,loss in enumerate(all_slice_loss):\n",
    "    better_than = np.sum(all_slice_loss[i] < np.array(all_loss)) / len(all_loss)\n",
    "    \n",
    "    print(\"{} slice. Better than {:.3g} of the selections\".format(i, better_than))\n"
   ]
  },
  {
   "cell_type": "markdown",
   "id": "53299318",
   "metadata": {},
   "source": [
    "Select two of them, worst loss 13 and best loss 19 "
   ]
  },
  {
   "cell_type": "code",
   "execution_count": 23,
   "id": "9b8b5dc1",
   "metadata": {},
   "outputs": [
    {
     "data": {
      "text/plain": [
       "array([39, 40, 41])"
      ]
     },
     "execution_count": 23,
     "metadata": {},
     "output_type": "execute_result"
    }
   ],
   "source": [
    "all_slices[13]"
   ]
  },
  {
   "cell_type": "code",
   "execution_count": null,
   "id": "f3d34821",
   "metadata": {},
   "outputs": [],
   "source": []
  }
 ],
 "metadata": {
  "interpreter": {
   "hash": "204f4f11dabb1586d1da81df4b2feb72a7b7f68b4e0428f446bab1ef33d0c175"
  },
  "kernelspec": {
   "display_name": "Python 3",
   "language": "python",
   "name": "python3"
  },
  "language_info": {
   "codemirror_mode": {
    "name": "ipython",
    "version": 3
   },
   "file_extension": ".py",
   "mimetype": "text/x-python",
   "name": "python",
   "nbconvert_exporter": "python",
   "pygments_lexer": "ipython3",
   "version": "3.6.13"
  }
 },
 "nbformat": 4,
 "nbformat_minor": 5
}
